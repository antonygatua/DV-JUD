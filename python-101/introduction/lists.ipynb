{
 "cells": [
  {
   "cell_type": "markdown",
   "metadata": {},
   "source": [
    "## List\n",
    "\n",
    "* A collection of items in a particular order. \n",
    "* Can include strings, floats, intergers and any other datatypes including a list. \n",
    "* You can add anything in a list, and the items in your list don't have to be related in any particular way.\n",
    "* Use square brackets ```([])``` to indicate a list and individual items in the list are separated by commas.\n",
    "\n",
    "**syntax**: ```[item_1, item_2, item_3]```"
   ]
  },
  {
   "cell_type": "code",
   "execution_count": 1,
   "metadata": {},
   "outputs": [
    {
     "name": "stdout",
     "output_type": "stream",
     "text": [
      "['Mango', 'Banana', 'Orange', 'Apple']\n"
     ]
    }
   ],
   "source": [
    "# example \n",
    "\n",
    "fruits = [\"Mango\", \"Banana\", \"Orange\", \"Apple\"]\n",
    "\n",
    "print(fruits)"
   ]
  },
  {
   "cell_type": "markdown",
   "metadata": {},
   "source": [
    "### Accessing Items In a list\n",
    "\n",
    "* Lists are ordered collections, ie you can access individual items in a list by telling python the position of that item in a list.\n",
    "* The position of an item in a list is referred to as *index*.\n",
    "* Syntax to access items in a list:\n",
    "\n",
    "```list_name[index]```\n"
   ]
  },
  {
   "cell_type": "code",
   "execution_count": 4,
   "metadata": {},
   "outputs": [
    {
     "name": "stdout",
     "output_type": "stream",
     "text": [
      "['Mango', 'Banana', 'Orange', 'Apple']\n"
     ]
    }
   ],
   "source": [
    "# using fruit list \n",
    "print(fruits)"
   ]
  },
  {
   "cell_type": "code",
   "execution_count": 5,
   "metadata": {},
   "outputs": [
    {
     "name": "stdout",
     "output_type": "stream",
     "text": [
      "Banana\n"
     ]
    }
   ],
   "source": [
    "# access banana \n",
    "print(fruits[1])"
   ]
  },
  {
   "cell_type": "markdown",
   "metadata": {},
   "source": [
    "* Index positions start at **0**, not ~~1~~."
   ]
  },
  {
   "cell_type": "code",
   "execution_count": 6,
   "metadata": {},
   "outputs": [
    {
     "name": "stdout",
     "output_type": "stream",
     "text": [
      "APPLE\n"
     ]
    }
   ],
   "source": [
    "# change case\n",
    " \n",
    "print(fruits[3].upper())"
   ]
  },
  {
   "cell_type": "code",
   "execution_count": 8,
   "metadata": {},
   "outputs": [
    {
     "name": "stdout",
     "output_type": "stream",
     "text": [
      "Apple\n",
      "Orange\n"
     ]
    }
   ],
   "source": [
    "# using negative indexing \n",
    "# starts -1\n",
    "\n",
    "print(fruits[-1])\n",
    "print(fruits[-2])"
   ]
  },
  {
   "cell_type": "code",
   "execution_count": 9,
   "metadata": {},
   "outputs": [
    {
     "name": "stdout",
     "output_type": "stream",
     "text": [
      "Gilbert likes Apple, especially the green ones.\n"
     ]
    }
   ],
   "source": [
    "# using individual items in a list \n",
    "message = f\"Gilbert likes {fruits[-1]}, especially the green ones.\"\n",
    "\n",
    "print(message)"
   ]
  },
  {
   "cell_type": "code",
   "execution_count": 14,
   "metadata": {},
   "outputs": [
    {
     "name": "stdout",
     "output_type": "stream",
     "text": [
      "Alex likes both Mango and Orange.\n"
     ]
    }
   ],
   "source": [
    "message_2 = f\"Alex likes both {fruits[0]} and {fruits[2]}.\"\n",
    "\n",
    "print(message_2)"
   ]
  },
  {
   "cell_type": "markdown",
   "metadata": {},
   "source": [
    "### Modifying, Adding, and Removing Elements in a List\n",
    "\n",
    "* Lists are dynamic, i.e., most of the lists you will create, you will add items, modify the items, remove them items and delete the entire list."
   ]
  },
  {
   "cell_type": "code",
   "execution_count": 17,
   "metadata": {},
   "outputs": [
    {
     "name": "stdout",
     "output_type": "stream",
     "text": [
      "['Supreme', 'High Coat']\n"
     ]
    }
   ],
   "source": [
    "# example list\n",
    "\n",
    "courts = [\"Supreme\", \"High Coat\"]\n",
    "\n",
    "print(courts)"
   ]
  },
  {
   "cell_type": "code",
   "execution_count": 19,
   "metadata": {},
   "outputs": [
    {
     "name": "stdout",
     "output_type": "stream",
     "text": [
      "['Supreme', 'High Court']\n"
     ]
    }
   ],
   "source": [
    "# modifying elements in a list \n",
    "courts[1] = \"High Court\"\n",
    "\n",
    "print(courts)"
   ]
  },
  {
   "cell_type": "code",
   "execution_count": 20,
   "metadata": {},
   "outputs": [
    {
     "name": "stdout",
     "output_type": "stream",
     "text": [
      "['Supreme', 'High Court', 'Magistrate Court']\n"
     ]
    }
   ],
   "source": [
    "# adding items to list - introducing new items to the list \n",
    "\n",
    "# 1. Adding elements at the end of a list .append(item)\n",
    "\n",
    "courts.append(\"Magistrate Court\")\n",
    "\n",
    "print(courts)"
   ]
  },
  {
   "cell_type": "code",
   "execution_count": 21,
   "metadata": {},
   "outputs": [
    {
     "name": "stdout",
     "output_type": "stream",
     "text": [
      "['Mango', 'Banana', 'Orange', 'Apple', 'Paw paw']\n"
     ]
    }
   ],
   "source": [
    "# example 2\n",
    "fruits.append(\"Paw paw\")\n",
    "\n",
    "print(fruits)"
   ]
  },
  {
   "cell_type": "code",
   "execution_count": 26,
   "metadata": {},
   "outputs": [
    {
     "name": "stdout",
     "output_type": "stream",
     "text": [
      "['Supreme', 'Court of Appeal', 'Court of Appeal', 'High Court', 'Magistrate Court']\n"
     ]
    }
   ],
   "source": [
    "# 2. Insert an item into a list at specific position\n",
    "# syntax .insert(index, item)\n",
    "\n",
    "courts.insert(1, \"Court of Appeal\")\n",
    "\n",
    "print(courts)"
   ]
  },
  {
   "cell_type": "code",
   "execution_count": 29,
   "metadata": {},
   "outputs": [
    {
     "name": "stdout",
     "output_type": "stream",
     "text": [
      "['Mango', 'Banana', 'Orange', 'Apple', 'Paw paw']\n"
     ]
    }
   ],
   "source": [
    "print(fruits)"
   ]
  },
  {
   "cell_type": "code",
   "execution_count": 30,
   "metadata": {},
   "outputs": [
    {
     "name": "stdout",
     "output_type": "stream",
     "text": [
      "['Mango', 'Banana', 'Orange', 'Apple']\n"
     ]
    }
   ],
   "source": [
    "# removing items in a list \n",
    "\n",
    "# 1. using .pop() to remove an item at the end of a list\n",
    "\n",
    "fruits.pop()\n",
    "\n",
    "print(fruits)"
   ]
  },
  {
   "cell_type": "code",
   "execution_count": 31,
   "metadata": {},
   "outputs": [
    {
     "name": "stdout",
     "output_type": "stream",
     "text": [
      "['Banana', 'Orange', 'Apple']\n"
     ]
    }
   ],
   "source": [
    "# 2. use .pop(index) to remove an item at a particular position \n",
    "\n",
    "fruits.pop(0)\n",
    "\n",
    "print(fruits)"
   ]
  },
  {
   "cell_type": "code",
   "execution_count": 33,
   "metadata": {},
   "outputs": [
    {
     "name": "stdout",
     "output_type": "stream",
     "text": [
      "['Banana', 'Apple']\n"
     ]
    }
   ],
   "source": [
    "# 3. use .remove(item_value) to remove item by value\n",
    "\n",
    "fruits.remove(\"Orange\")\n",
    "\n",
    "print(fruits)"
   ]
  },
  {
   "cell_type": "code",
   "execution_count": 34,
   "metadata": {},
   "outputs": [
    {
     "name": "stdout",
     "output_type": "stream",
     "text": [
      "['Banana']\n"
     ]
    }
   ],
   "source": [
    "# using del statement to remove item in a list \n",
    "# syntax del list_name[index]\n",
    "\n",
    "del fruits[1]\n",
    "\n",
    "print(fruits)"
   ]
  },
  {
   "cell_type": "code",
   "execution_count": 35,
   "metadata": {},
   "outputs": [],
   "source": [
    "noise_makers = [\"Antonny\", \"Kocheli\",\"Kirui\",\"Chemu\",\"Nyambane\"]"
   ]
  },
  {
   "cell_type": "code",
   "execution_count": 36,
   "metadata": {},
   "outputs": [
    {
     "name": "stdout",
     "output_type": "stream",
     "text": [
      "Present\n"
     ]
    }
   ],
   "source": [
    "# checking item in a list \n",
    "if \"Antonny\" in noise_makers:\n",
    "    print(\"Present\")"
   ]
  },
  {
   "cell_type": "code",
   "execution_count": 37,
   "metadata": {},
   "outputs": [
    {
     "name": "stdout",
     "output_type": "stream",
     "text": [
      "['Antonny', 'Kocheli', 'Kirui', 'Chemu', 'Nyambane', 'Yusuf']\n"
     ]
    }
   ],
   "source": [
    "# adding items not in list \n",
    "if \"Yusuf\" in noise_makers:\n",
    "    print(\"Present\")\n",
    "\n",
    "else:\n",
    "    noise_makers.append(\"Yusuf\")\n",
    "\n",
    "print(noise_makers)"
   ]
  },
  {
   "cell_type": "code",
   "execution_count": 38,
   "metadata": {},
   "outputs": [
    {
     "name": "stdout",
     "output_type": "stream",
     "text": [
      "List corrupted\n"
     ]
    }
   ],
   "source": [
    "# checking if item not in a list \n",
    "\n",
    "if \"Ida\" not in noise_makers:\n",
    "    print(\"List corrupted\")"
   ]
  },
  {
   "cell_type": "code",
   "execution_count": 39,
   "metadata": {},
   "outputs": [
    {
     "name": "stdout",
     "output_type": "stream",
     "text": [
      "['Ida', 'Antonny', 'Kocheli', 'Kirui', 'Chemu', 'Nyambane', 'Yusuf']\n"
     ]
    }
   ],
   "source": [
    "# adding item \n",
    "noise_makers.insert(0, \"Ida\")\n",
    "\n",
    "print(noise_makers)"
   ]
  },
  {
   "cell_type": "code",
   "execution_count": 40,
   "metadata": {},
   "outputs": [
    {
     "data": {
      "text/plain": [
       "7"
      ]
     },
     "execution_count": 40,
     "metadata": {},
     "output_type": "execute_result"
    }
   ],
   "source": [
    "# functions\n",
    "\n",
    "# size of a list \n",
    "len(noise_makers)"
   ]
  },
  {
   "cell_type": "code",
   "execution_count": 42,
   "metadata": {},
   "outputs": [],
   "source": []
  },
  {
   "cell_type": "code",
   "execution_count": null,
   "metadata": {},
   "outputs": [],
   "source": []
  }
 ],
 "metadata": {
  "kernelspec": {
   "display_name": "Python 3",
   "language": "python",
   "name": "python3"
  },
  "language_info": {
   "codemirror_mode": {
    "name": "ipython",
    "version": 3
   },
   "file_extension": ".py",
   "mimetype": "text/x-python",
   "name": "python",
   "nbconvert_exporter": "python",
   "pygments_lexer": "ipython3",
   "version": "3.11.3"
  },
  "orig_nbformat": 4
 },
 "nbformat": 4,
 "nbformat_minor": 2
}
