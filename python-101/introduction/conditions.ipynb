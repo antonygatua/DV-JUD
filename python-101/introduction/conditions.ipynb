{
 "cells": [
  {
   "cell_type": "code",
   "execution_count": 1,
   "metadata": {},
   "outputs": [],
   "source": [
    "# leave days\n",
    "\n",
    "leave_days = 0"
   ]
  },
  {
   "cell_type": "code",
   "execution_count": 2,
   "metadata": {},
   "outputs": [
    {
     "name": "stdout",
     "output_type": "stream",
     "text": [
      "1\n"
     ]
    }
   ],
   "source": [
    "leave_days = leave_days + 1\n",
    "\n",
    "print(leave_days)"
   ]
  },
  {
   "cell_type": "code",
   "execution_count": 6,
   "metadata": {},
   "outputs": [
    {
     "name": "stdout",
     "output_type": "stream",
     "text": [
      "2\n"
     ]
    }
   ],
   "source": [
    "# incrementing variable by value\n",
    "\n",
    "leave_days += 1\n",
    "print(leave_days)"
   ]
  },
  {
   "cell_type": "code",
   "execution_count": 5,
   "metadata": {},
   "outputs": [
    {
     "name": "stdout",
     "output_type": "stream",
     "text": [
      "1\n"
     ]
    }
   ],
   "source": [
    "# decrement variable by value \n",
    "\n",
    "leave_days -= 1 # leave_days = leave_day - 1\n",
    "\n",
    "print(leave_days)"
   ]
  },
  {
   "cell_type": "code",
   "execution_count": 9,
   "metadata": {},
   "outputs": [
    {
     "name": "stdout",
     "output_type": "stream",
     "text": [
      "20\n"
     ]
    }
   ],
   "source": [
    "leave_days = 21\n",
    "\n",
    "# use boolean \n",
    "take_leave = True\n",
    "\n",
    "# decide to take leave\n",
    "if take_leave: # condition\n",
    "\n",
    "    # if condition is met \n",
    "    leave_days -= 1\n",
    "\n",
    "print(leave_days)\n"
   ]
  },
  {
   "cell_type": "code",
   "execution_count": 10,
   "metadata": {},
   "outputs": [
    {
     "name": "stdout",
     "output_type": "stream",
     "text": [
      "You can have Id\n"
     ]
    }
   ],
   "source": [
    "age = 20\n",
    "\n",
    "if age > 18: # condition\n",
    "    print(\"You can have Id\")"
   ]
  },
  {
   "cell_type": "code",
   "execution_count": 11,
   "metadata": {},
   "outputs": [
    {
     "data": {
      "text/plain": [
       "True"
      ]
     },
     "execution_count": 11,
     "metadata": {},
     "output_type": "execute_result"
    }
   ],
   "source": [
    "# condition\n",
    "age > 18"
   ]
  },
  {
   "cell_type": "code",
   "execution_count": 12,
   "metadata": {},
   "outputs": [
    {
     "name": "stdout",
     "output_type": "stream",
     "text": [
      "Pass\n"
     ]
    }
   ],
   "source": [
    "# if else statement to determine if students have passed or failed\n",
    "score = 45\n",
    "\n",
    "# because the score is above 40, then only the if statement will be executed \n",
    "if score > 40:\n",
    "    outcome = \"Pass\" # code to execute if statement is True\n",
    "    print(outcome) # code to excute when if statement is True\n",
    "    \n",
    "# when the student has scored 40 or below\n",
    "else: \n",
    "    outcome = \"Fail\"\n",
    "    print(outcome)"
   ]
  },
  {
   "cell_type": "code",
   "execution_count": 13,
   "metadata": {},
   "outputs": [
    {
     "name": "stdout",
     "output_type": "stream",
     "text": [
      "Fail\n"
     ]
    }
   ],
   "source": [
    "# what happens when student score below 40 \n",
    "\n",
    "score = 30\n",
    "\n",
    "if score > 40:\n",
    "    outcome = \"Pass\" \n",
    "    print(outcome) \n",
    "    \n",
    "# when the student has scored 40 or below\n",
    "else: \n",
    "    outcome = \"Fail\" # code to execute if statement is False\n",
    "    print(outcome) # code to excute when if statement is False"
   ]
  },
  {
   "cell_type": "markdown",
   "metadata": {},
   "source": [
    "## And \n",
    "\n",
    "* Used to join two or more conditions\n",
    "* Example students who have score above 40 but below 50 are said to have attained grade D\n",
    "\n",
    "* **Note** - For ```and```, all the conditions have to be True for the condition to be True"
   ]
  },
  {
   "cell_type": "code",
   "execution_count": 16,
   "metadata": {},
   "outputs": [
    {
     "name": "stdout",
     "output_type": "stream",
     "text": [
      "Boy\n"
     ]
    }
   ],
   "source": [
    "age = 12 \n",
    "\n",
    "gender = 'Male'\n",
    "\n",
    "if (age < 18) and (gender == 'Male'): # both the two conditions have to be True\n",
    "    print('Boy')"
   ]
  },
  {
   "cell_type": "code",
   "execution_count": 17,
   "metadata": {},
   "outputs": [],
   "source": [
    "# if one condition is met\n",
    "# the statement is False\n",
    "age = 19\n",
    "\n",
    "gender = 'Male'\n",
    "\n",
    "if (age < 18) and (gender == 'Male'): # both the two conditions have to be True\n",
    "    print('Boy')\n"
   ]
  },
  {
   "cell_type": "markdown",
   "metadata": {},
   "source": [
    "Summary \n",
    "\n",
    "|Condition 1| Condition 2| Final Condition|\n",
    "|:---------:|:----------:|:--------------:|\n",
    "|True|True|True|\n",
    "|True|False|False|\n",
    "|False|True|False|\n",
    "|False|False|False|"
   ]
  },
  {
   "cell_type": "markdown",
   "metadata": {},
   "source": [
    "* above 40 >> D\n",
    "* above 50 >> C\n",
    "* above 60 >> B\n",
    "* above 70 >> A\n",
    "* below 40 >> Fail"
   ]
  },
  {
   "cell_type": "code",
   "execution_count": 19,
   "metadata": {},
   "outputs": [
    {
     "name": "stdout",
     "output_type": "stream",
     "text": [
      "B\n"
     ]
    }
   ],
   "source": [
    "# grades\n",
    "\n",
    "grade = 67\n",
    "\n",
    "if (grade >= 40) and (grade < 50): # score between 40 and 49 \n",
    "    grade = \"D\"\n",
    "    print(grade)\n",
    "\n",
    "# elif statement (else if)\n",
    "elif (grade >= 50) and (grade < 60): # score between 50 and 59\n",
    "    grade = 'C'\n",
    "    print(grade)\n",
    "\n",
    "elif (grade >= 60) and (grade < 70): # score between 60 and 69 \n",
    "    grade = 'B'\n",
    "    print(grade)\n",
    "\n",
    "elif (grade >= 70): # score above 70\n",
    "    grade = 'A'\n",
    "    print(grade)\n",
    "\n",
    "else: # alternative\n",
    "    print('Fail')"
   ]
  },
  {
   "cell_type": "markdown",
   "metadata": {},
   "source": [
    "## OR\n",
    "\n",
    "* Just like and is used to join conditions\n",
    "* Alteast one condition should be ```True```"
   ]
  },
  {
   "cell_type": "code",
   "execution_count": 29,
   "metadata": {},
   "outputs": [
    {
     "name": "stdout",
     "output_type": "stream",
     "text": [
      "You can go into the bouncing castle\n"
     ]
    }
   ],
   "source": [
    "height = 45\n",
    "weight = 20 \n",
    "\n",
    "if (height < 40) or (weight < 50): # condition is True if either condition is met\n",
    "    print(\"You can go into the bouncing castle\")\n",
    "\n",
    "# weight has met the criteria\n",
    "# height has not met the criteria"
   ]
  },
  {
   "cell_type": "markdown",
   "metadata": {},
   "source": [
    "Summary \n",
    "\n",
    "|Condition 1| Condition 2| Final Condition|\n",
    "|:---------:|:----------:|:--------------:|\n",
    "|True|True|True|\n",
    "|True|False|True|\n",
    "|False|True|True|\n",
    "|False|False|False|"
   ]
  },
  {
   "cell_type": "code",
   "execution_count": 32,
   "metadata": {},
   "outputs": [
    {
     "name": "stdout",
     "output_type": "stream",
     "text": [
      "You will destroy the bouncing castle\n"
     ]
    }
   ],
   "source": [
    "height = 65\n",
    "weight = 90 \n",
    "if (height < 40) or (weight < 50): # condition is True if either condition is met\n",
    "    print(\"You can go into the bouncing castle\")\n",
    "\n",
    "else: # else statements will be excuted if both the conditions above are false\n",
    "    print('You will destroy the bouncing castle')"
   ]
  },
  {
   "cell_type": "code",
   "execution_count": 31,
   "metadata": {},
   "outputs": [
    {
     "name": "stdout",
     "output_type": "stream",
     "text": [
      "You can go into the bouncing castle\n"
     ]
    }
   ],
   "source": [
    "height = 50 # False\n",
    "weight = 20 # True \n",
    "if (height < 40) or (weight < 50): \n",
    "    print(\"You can go into the bouncing castle\")\n",
    "\n",
    "else: \n",
    "    print('You will destroy the bouncing castle')"
   ]
  },
  {
   "cell_type": "code",
   "execution_count": null,
   "metadata": {},
   "outputs": [],
   "source": []
  }
 ],
 "metadata": {
  "kernelspec": {
   "display_name": "Python 3",
   "language": "python",
   "name": "python3"
  },
  "language_info": {
   "codemirror_mode": {
    "name": "ipython",
    "version": 3
   },
   "file_extension": ".py",
   "mimetype": "text/x-python",
   "name": "python",
   "nbconvert_exporter": "python",
   "pygments_lexer": "ipython3",
   "version": "3.11.3"
  },
  "orig_nbformat": 4
 },
 "nbformat": 4,
 "nbformat_minor": 2
}
