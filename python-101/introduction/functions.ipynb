{
 "cells": [
  {
   "cell_type": "markdown",
   "metadata": {},
   "source": [
    "# Functions\n",
    "\n"
   ]
  },
  {
   "cell_type": "markdown",
   "metadata": {},
   "source": [
    "* A named block of code that are designed to do one specific job.\n",
    "* When you want to perform a particular task that you have defined in a function, you *call* the function responsible for it.\n",
    "* If you need to perform that task multiple times across your program, you dont need type the code all over again and again; you just call the function dedicated to handling that task.\n",
    "* Using functions makes your program easier to write, read, test and fix."
   ]
  },
  {
   "cell_type": "code",
   "execution_count": 1,
   "metadata": {},
   "outputs": [
    {
     "name": "stdout",
     "output_type": "stream",
     "text": [
      "The Zen of Python, by Tim Peters\n",
      "\n",
      "Beautiful is better than ugly.\n",
      "Explicit is better than implicit.\n",
      "Simple is better than complex.\n",
      "Complex is better than complicated.\n",
      "Flat is better than nested.\n",
      "Sparse is better than dense.\n",
      "Readability counts.\n",
      "Special cases aren't special enough to break the rules.\n",
      "Although practicality beats purity.\n",
      "Errors should never pass silently.\n",
      "Unless explicitly silenced.\n",
      "In the face of ambiguity, refuse the temptation to guess.\n",
      "There should be one-- and preferably only one --obvious way to do it.\n",
      "Although that way may not be obvious at first unless you're Dutch.\n",
      "Now is better than never.\n",
      "Although never is often better than *right* now.\n",
      "If the implementation is hard to explain, it's a bad idea.\n",
      "If the implementation is easy to explain, it may be a good idea.\n",
      "Namespaces are one honking great idea -- let's do more of those!\n"
     ]
    }
   ],
   "source": [
    "# zen of python\n",
    "import this"
   ]
  },
  {
   "cell_type": "markdown",
   "metadata": {},
   "source": [
    "## Types of Functions \n",
    "\n",
    "1. `User-defined functions` - Functions that we create/define ourselves in our program and then call them wherever we want.\n",
    "2. `Built-in Functions` - Functions already defined in Python Libraries and we call them directly."
   ]
  },
  {
   "cell_type": "markdown",
   "metadata": {},
   "source": [
    "## Defining a Function"
   ]
  },
  {
   "cell_type": "code",
   "execution_count": 11,
   "metadata": {},
   "outputs": [
    {
     "name": "stdout",
     "output_type": "stream",
     "text": [
      "Hello!\n"
     ]
    }
   ],
   "source": [
    "# example \n",
    "def greet_user():\n",
    "    \"\"\"Display a simple greeting\"\"\"\n",
    "    print(\"Hello!\")\n",
    "\n",
    "greet_user()"
   ]
  },
  {
   "cell_type": "markdown",
   "metadata": {},
   "source": [
    "`def greet_user():` \n",
    "* Using the keyword `def` to inform python that you are defining a function, refered to as *function definition*. \n",
    "* Function definition tells python the name of the function, in the example above, **greet_user**.\n",
    "* It also informs python, if applicable, what kind of information the function needs to perform it's task/job, passed into to function using the `()`. In this case, the function need no information to perform its tasks hence the empty brackets.\n",
    "* Any indented lines that follow the `:` make up the body of the function.\n",
    "\n",
    "`\"\"\"Display a simple greeting\"\"\"`\n",
    "\n",
    "* Comment called *docstring*, that describes what the function does.\n",
    "* If a single short one line statement, we can use a `#`.\n",
    "\n",
    "`print(\"Hello World!\")`\n",
    "* Function body line(s) indented inside the function.\n",
    "* Contains set of instructions on the code to be executed.\n",
    "\n",
    "`greet_user()`\n",
    "* When you want to use a function, you call it. \n",
    "* A **function call** tells python to execute the indented code in the function body.\n",
    "* To call a function, write the function name, in our example, `greet_user`, followed by any necessary information in the `()`.\n"
   ]
  },
  {
   "cell_type": "code",
   "execution_count": 7,
   "metadata": {},
   "outputs": [
    {
     "name": "stdout",
     "output_type": "stream",
     "text": [
      "Antonny\n"
     ]
    }
   ],
   "source": [
    "# comment \n",
    "\n",
    "\"\"\"Comment\"\"\"\n",
    "\n",
    "# This is a multiple line comment\n",
    "# The tripple double quotes \n",
    "# Used to create multiple line comments\n",
    "\n",
    "\"\"\"\n",
    "This is a multiple line comment\n",
    "The tripple double quotes \n",
    "Used to create multiple line comments\n",
    "\"\"\"\n",
    "\n",
    "print(\"Antonny\")"
   ]
  },
  {
   "cell_type": "code",
   "execution_count": 9,
   "metadata": {},
   "outputs": [
    {
     "name": "stdout",
     "output_type": "stream",
     "text": [
      "7\n"
     ]
    }
   ],
   "source": [
    "# example 2\n",
    "\n",
    "def add_numbers(): # defining our function\n",
    "    \"\"\"Simple function to add numbers\"\"\"\n",
    "    a = 2\n",
    "    b = 5\n",
    "    sum = a + b\n",
    "    print(sum)\n",
    "\n",
    "add_numbers() # calling our function"
   ]
  },
  {
   "cell_type": "markdown",
   "metadata": {},
   "source": [
    "## Passing information to a function\n",
    "\n",
    "* The function greet_user can only tell the user *Hello!* but not greet them by name."
   ]
  },
  {
   "cell_type": "code",
   "execution_count": 12,
   "metadata": {},
   "outputs": [
    {
     "name": "stdout",
     "output_type": "stream",
     "text": [
      "Hello Antonny!\n"
     ]
    }
   ],
   "source": [
    "def greet_user(username):\n",
    "    \"\"\"Display a simple greeting\"\"\"\n",
    "    print(f\"Hello {username}!\")\n",
    "\n",
    "greet_user('Antonny')"
   ]
  },
  {
   "cell_type": "markdown",
   "metadata": {},
   "source": [
    "* By adding `username` in our function definition, we are allowing the function to accept any value for *username*.\n",
    "* Expectations: - provide a value for a *username* each time call it. "
   ]
  },
  {
   "cell_type": "code",
   "execution_count": 13,
   "metadata": {},
   "outputs": [
    {
     "name": "stdout",
     "output_type": "stream",
     "text": [
      "Hello Melly!\n"
     ]
    }
   ],
   "source": [
    "# second function call \n",
    "greet_user('Melly') # changed username value"
   ]
  },
  {
   "cell_type": "markdown",
   "metadata": {},
   "source": [
    "* `parameters` - in the example greet_user(username), *username* is the parameter.\n",
    "A piece of information the function needs to do its job/task.\n",
    "* `arguments` - the value *Antonny* and *Melly* are arguments.\n",
    "A piece of information that's passed from a function call to a function."
   ]
  },
  {
   "cell_type": "code",
   "execution_count": 14,
   "metadata": {},
   "outputs": [
    {
     "ename": "TypeError",
     "evalue": "greet_user() missing 1 required positional argument: 'username'",
     "output_type": "error",
     "traceback": [
      "\u001b[0;31m---------------------------------------------------------------------------\u001b[0m",
      "\u001b[0;31mTypeError\u001b[0m                                 Traceback (most recent call last)",
      "Cell \u001b[0;32mIn[14], line 2\u001b[0m\n\u001b[1;32m      1\u001b[0m \u001b[39m# third function call \u001b[39;00m\n\u001b[0;32m----> 2\u001b[0m greet_user()\n",
      "\u001b[0;31mTypeError\u001b[0m: greet_user() missing 1 required positional argument: 'username'"
     ]
    }
   ],
   "source": [
    "# third function call \n",
    "greet_user()"
   ]
  },
  {
   "cell_type": "markdown",
   "metadata": {},
   "source": [
    "* We must pass in arguments during function calls to avoid errors."
   ]
  },
  {
   "cell_type": "code",
   "execution_count": 15,
   "metadata": {},
   "outputs": [
    {
     "name": "stdout",
     "output_type": "stream",
     "text": [
      "I have a Cat.\n",
      "My Cat's name is Missy.\n"
     ]
    }
   ],
   "source": [
    "def describe_pet(animal_type, pet_name):\n",
    "    \"\"\"Display information about a pet\"\"\"\n",
    "    print(f\"I have a {animal_type}.\")\n",
    "    print(f\"My {animal_type}'s name is {pet_name}.\")\n",
    "\n",
    "describe_pet('Cat', 'Missy')"
   ]
  },
  {
   "cell_type": "markdown",
   "metadata": {},
   "source": [
    "* When you call a function, Python must match each argument in the function call with a parameter in the function definition."
   ]
  },
  {
   "cell_type": "code",
   "execution_count": 16,
   "metadata": {},
   "outputs": [
    {
     "name": "stdout",
     "output_type": "stream",
     "text": [
      "I have a Scooby.\n",
      "My Scooby's name is Dog.\n"
     ]
    }
   ],
   "source": [
    "# the arguments match the order of the parameter \n",
    "describe_pet('Scooby', 'Dog') # this is wrong"
   ]
  },
  {
   "cell_type": "code",
   "execution_count": 17,
   "metadata": {},
   "outputs": [
    {
     "name": "stdout",
     "output_type": "stream",
     "text": [
      "I have a Dog.\n",
      "My Dog's name is Scooby.\n"
     ]
    }
   ],
   "source": [
    "# alternatively use keyword arguments\n",
    "describe_pet(pet_name='Scooby', animal_type='Dog') # assign arguments to parameters"
   ]
  },
  {
   "cell_type": "code",
   "execution_count": 18,
   "metadata": {},
   "outputs": [],
   "source": [
    "# default values \n",
    "def describe_pet(pet_name, animal_type = 'Dog'):\n",
    "    \"\"\"Display information about a pet\"\"\"\n",
    "    print(f\"I have a {animal_type}.\")\n",
    "    print(f\"My {animal_type}'s name is {pet_name}.\")"
   ]
  },
  {
   "cell_type": "markdown",
   "metadata": {},
   "source": [
    "* Defining a **default values** for the parameter `animal_type` and setting it as `Dog`. \n"
   ]
  },
  {
   "cell_type": "code",
   "execution_count": 19,
   "metadata": {},
   "outputs": [
    {
     "name": "stdout",
     "output_type": "stream",
     "text": [
      "I have a Dog.\n",
      "My Dog's name is Missy.\n"
     ]
    }
   ],
   "source": [
    "describe_pet('Missy')"
   ]
  },
  {
   "cell_type": "markdown",
   "metadata": {},
   "source": [
    "If an argument is not provided in the function call, python uses the default value ie `Dog` in the example above."
   ]
  },
  {
   "cell_type": "code",
   "execution_count": 21,
   "metadata": {},
   "outputs": [
    {
     "name": "stdout",
     "output_type": "stream",
     "text": [
      "I have a Cow.\n",
      "My Cow's name is Hope.\n"
     ]
    }
   ],
   "source": [
    "describe_pet('Hope', 'Cow')"
   ]
  },
  {
   "cell_type": "markdown",
   "metadata": {},
   "source": [
    "If an argument for a parameter is provided in the function call, python uses the argument value provided and not the default value. "
   ]
  },
  {
   "cell_type": "markdown",
   "metadata": {},
   "source": [
    "## Return Values\n",
    "\n",
    "* A function doesn't have to display its output directly."
   ]
  },
  {
   "cell_type": "code",
   "execution_count": 40,
   "metadata": {},
   "outputs": [],
   "source": [
    "# example \n",
    "def send_greeting(user):\n",
    "    \"\"\"Welcome users to a wedding\"\"\"\n",
    "    message = f\"Welcome {user} to Nyambane and Ida's Wedding!\"\n",
    "\n",
    "send_greeting('Yusuf')"
   ]
  },
  {
   "cell_type": "markdown",
   "metadata": {},
   "source": [
    "* Functions process data and then return a value or set of values, called **return values**."
   ]
  },
  {
   "cell_type": "code",
   "execution_count": 43,
   "metadata": {},
   "outputs": [
    {
     "data": {
      "text/plain": [
       "\"Welcome Eugene to Nyambane and Ida's Wedding!\""
      ]
     },
     "execution_count": 43,
     "metadata": {},
     "output_type": "execute_result"
    }
   ],
   "source": [
    "# modify the example \n",
    "def send_greeting(user):\n",
    "    \"\"\"Welcome users to a wedding\"\"\"\n",
    "    message = f\"Welcome {user} to Nyambane and Ida's Wedding!\"\n",
    "\n",
    "    return message\n",
    "\n",
    "send_greeting('Eugene')"
   ]
  },
  {
   "cell_type": "markdown",
   "metadata": {},
   "source": [
    "* The `return` statement takes a value or set of values from inside a function and send it back to the line that called the function."
   ]
  },
  {
   "cell_type": "code",
   "execution_count": 42,
   "metadata": {},
   "outputs": [
    {
     "name": "stdout",
     "output_type": "stream",
     "text": [
      "Welcome Kocheli to Nyambane and Ida's Wedding!\n"
     ]
    }
   ],
   "source": [
    "welcome_message = send_greeting('Kocheli')\n",
    "\n",
    "print(welcome_message)"
   ]
  }
 ],
 "metadata": {
  "kernelspec": {
   "display_name": "Python 3",
   "language": "python",
   "name": "python3"
  },
  "language_info": {
   "codemirror_mode": {
    "name": "ipython",
    "version": 3
   },
   "file_extension": ".py",
   "mimetype": "text/x-python",
   "name": "python",
   "nbconvert_exporter": "python",
   "pygments_lexer": "ipython3",
   "version": "3.11.3"
  },
  "orig_nbformat": 4
 },
 "nbformat": 4,
 "nbformat_minor": 2
}
