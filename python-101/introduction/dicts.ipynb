{
 "cells": [
  {
   "cell_type": "markdown",
   "metadata": {},
   "source": [
    "# Dictionary\n",
    "\n",
    "* Data type that stores data using ```Key value``` pairs.\n",
    "* Use curly brackets(```{}```) to define dictionaries in python\n",
    "\n",
    "* Syntax\n",
    "\n",
    "```{key : value}```"
   ]
  },
  {
   "cell_type": "code",
   "execution_count": 2,
   "metadata": {},
   "outputs": [
    {
     "name": "stdout",
     "output_type": "stream",
     "text": [
      "{'Name': 'Antonny Muiko', 'Id': 1245, 'Gender': 'Male'}\n"
     ]
    }
   ],
   "source": [
    "# example \n",
    "\n",
    "student = {\n",
    "    \"Name\" : \"Antonny Muiko\",\n",
    "    \"Id\" : 1245,\n",
    "    \"Gender\" : \"Male\"\n",
    "}\n",
    "\n",
    "print(student)"
   ]
  },
  {
   "cell_type": "code",
   "execution_count": 4,
   "metadata": {},
   "outputs": [
    {
     "name": "stdout",
     "output_type": "stream",
     "text": [
      "{'sky': ['Nyambane', 'Eugene', 'Yusuf'], 'friends of sky': ['Martin', 'Lumumba', 'Chemu'], 'kitchen cabinet': ['Maggy', 'Eva', 'Linda'], 'Office Keepers': ['Kocheli', 'Ngobiro', 'John']}\n"
     ]
    }
   ],
   "source": [
    "# example 2\n",
    "\n",
    "office = {\n",
    "    \"sky\" : [\"Nyambane\",\"Eugene\",\"Yusuf\"],\n",
    "    \"friends of sky\" : [\"Martin\",\"Lumumba\",\"Chemu\"],\n",
    "    \"kitchen cabinet\" : [\"Maggy\",\"Eva\",\"Linda\"],\n",
    "    \"Office Keepers\" : [\"Kocheli\",\"Ngobiro\",\"John\"]\n",
    "}\n",
    "\n",
    "print(office)"
   ]
  },
  {
   "cell_type": "code",
   "execution_count": 6,
   "metadata": {},
   "outputs": [
    {
     "data": {
      "text/plain": [
       "dict_keys(['sky', 'friends of sky', 'kitchen cabinet', 'Office Keepers'])"
      ]
     },
     "execution_count": 6,
     "metadata": {},
     "output_type": "execute_result"
    }
   ],
   "source": [
    "# keys of the dictionary\n",
    "office.keys()"
   ]
  },
  {
   "cell_type": "code",
   "execution_count": 8,
   "metadata": {},
   "outputs": [
    {
     "name": "stdout",
     "output_type": "stream",
     "text": [
      "['Kocheli', 'Ngobiro', 'John']\n"
     ]
    }
   ],
   "source": [
    "# access values in a dictionary using keys\n",
    "# synatax dictionary_name[key]\n",
    "\n",
    "print(office['Office Keepers'])"
   ]
  },
  {
   "cell_type": "code",
   "execution_count": 9,
   "metadata": {},
   "outputs": [
    {
     "name": "stdout",
     "output_type": "stream",
     "text": [
      "['Nyambane', 'Eugene', 'Yusuf']\n"
     ]
    }
   ],
   "source": [
    "# sky team \n",
    "\n",
    "print(office[\"sky\"])"
   ]
  },
  {
   "cell_type": "code",
   "execution_count": null,
   "metadata": {},
   "outputs": [],
   "source": [
    "# Remember lists append?\n",
    "\n"
   ]
  },
  {
   "cell_type": "code",
   "execution_count": 10,
   "metadata": {},
   "outputs": [
    {
     "name": "stdout",
     "output_type": "stream",
     "text": [
      "{'Breakfast': {'Bevarages': {'Tea': ['Masala', 'Ginger', 'Caramel'], 'Cofee': ['Black', 'white', 'Latte'], 'cocoa': ['hot chocolate', 'free range']}, 'accompaniment': {'wings': ['hot wings', 'spicy', 'lemon and herbs'], 'kienyeji': ['nduma', 'nguashe', 'cassava']}}, 'lunch': {'carbohydrates': ['Ugali', 'Mokimo', 'rice'], 'Vegs': ['sukuma', 'cabbage'], 'Proteins': ['chicken', 'fish', 'mutton']}}\n"
     ]
    }
   ],
   "source": [
    "# cafe \n",
    "\n",
    "menu = {\n",
    "    \"Breakfast\" : {\n",
    "        \"Bevarages\" : {\n",
    "            \"Tea\" : [\"Masala\", \"Ginger\", \"Caramel\"],\n",
    "            \"Cofee\" : [\"Black\", \"white\", \"Latte\"],\n",
    "            \"cocoa\" : [\"hot chocolate\", \"free range\"],\n",
    "        },\n",
    "        \"accompaniment\" : {\n",
    "            \"wings\" : [\"hot wings\", \"spicy\", \"lemon and herbs\"],\n",
    "            \"kienyeji\" : [\"nduma\", \"nguashe\", \"cassava\"],\n",
    "        },\n",
    "     \n",
    "    },\n",
    "    \"lunch\" : {\n",
    "        \"carbohydrates\" : ['Ugali', 'Mokimo', 'rice'],\n",
    "        \"Vegs\" : [\"sukuma\", \"cabbage\"],\n",
    "        \"Proteins\" : [\"chicken\",'fish','mutton'],\n",
    "    }\n",
    "}\n",
    "\n",
    "print(menu)"
   ]
  },
  {
   "cell_type": "code",
   "execution_count": 13,
   "metadata": {},
   "outputs": [
    {
     "data": {
      "text/plain": [
       "dict_keys(['Breakfast', 'lunch'])"
      ]
     },
     "execution_count": 13,
     "metadata": {},
     "output_type": "execute_result"
    }
   ],
   "source": [
    "menu.keys()"
   ]
  },
  {
   "cell_type": "code",
   "execution_count": 11,
   "metadata": {},
   "outputs": [
    {
     "name": "stdout",
     "output_type": "stream",
     "text": [
      "{'Bevarages': {'Tea': ['Masala', 'Ginger', 'Caramel'], 'Cofee': ['Black', 'white', 'Latte'], 'cocoa': ['hot chocolate', 'free range']}, 'accompaniment': {'wings': ['hot wings', 'spicy', 'lemon and herbs'], 'kienyeji': ['nduma', 'nguashe', 'cassava']}}\n"
     ]
    }
   ],
   "source": [
    "print(menu[\"Breakfast\"])"
   ]
  },
  {
   "cell_type": "code",
   "execution_count": 14,
   "metadata": {},
   "outputs": [
    {
     "data": {
      "text/plain": [
       "dict"
      ]
     },
     "execution_count": 14,
     "metadata": {},
     "output_type": "execute_result"
    }
   ],
   "source": [
    "type(menu[\"Breakfast\"])"
   ]
  },
  {
   "cell_type": "code",
   "execution_count": 15,
   "metadata": {},
   "outputs": [
    {
     "data": {
      "text/plain": [
       "dict_keys(['Bevarages', 'accompaniment'])"
      ]
     },
     "execution_count": 15,
     "metadata": {},
     "output_type": "execute_result"
    }
   ],
   "source": [
    "menu[\"Breakfast\"].keys()"
   ]
  },
  {
   "cell_type": "code",
   "execution_count": 16,
   "metadata": {},
   "outputs": [
    {
     "name": "stdout",
     "output_type": "stream",
     "text": [
      "{'Tea': ['Masala', 'Ginger', 'Caramel'], 'Cofee': ['Black', 'white', 'Latte'], 'cocoa': ['hot chocolate', 'free range']}\n"
     ]
    }
   ],
   "source": [
    "print(menu[\"Breakfast\"][\"Bevarages\"])"
   ]
  },
  {
   "cell_type": "code",
   "execution_count": 18,
   "metadata": {},
   "outputs": [
    {
     "name": "stdout",
     "output_type": "stream",
     "text": [
      "['Masala', 'Ginger', 'Caramel']\n"
     ]
    }
   ],
   "source": [
    "print(menu[\"Breakfast\"][\"Bevarages\"][\"Tea\"])"
   ]
  },
  {
   "cell_type": "code",
   "execution_count": 19,
   "metadata": {},
   "outputs": [
    {
     "name": "stdout",
     "output_type": "stream",
     "text": [
      "Ginger\n"
     ]
    }
   ],
   "source": [
    "print(menu[\"Breakfast\"][\"Bevarages\"][\"Tea\"][1])"
   ]
  },
  {
   "cell_type": "code",
   "execution_count": 20,
   "metadata": {},
   "outputs": [
    {
     "name": "stdout",
     "output_type": "stream",
     "text": [
      "Solo had the following for breakfast:\n",
      "\t* Ginger\n"
     ]
    }
   ],
   "source": [
    "print(f\"Solo had the following for breakfast:\\n\\t* {menu['Breakfast']['Bevarages']['Tea'][1]}\")"
   ]
  },
  {
   "cell_type": "code",
   "execution_count": null,
   "metadata": {},
   "outputs": [],
   "source": []
  }
 ],
 "metadata": {
  "kernelspec": {
   "display_name": "Python 3",
   "language": "python",
   "name": "python3"
  },
  "language_info": {
   "codemirror_mode": {
    "name": "ipython",
    "version": 3
   },
   "file_extension": ".py",
   "mimetype": "text/x-python",
   "name": "python",
   "nbconvert_exporter": "python",
   "pygments_lexer": "ipython3",
   "version": "3.11.3"
  },
  "orig_nbformat": 4
 },
 "nbformat": 4,
 "nbformat_minor": 2
}
