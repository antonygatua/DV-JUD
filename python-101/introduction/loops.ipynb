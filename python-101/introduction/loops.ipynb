{
 "cells": [
  {
   "cell_type": "markdown",
   "metadata": {},
   "source": [
    "## Objectives\n",
    "\n",
    "* Understand the concept\n",
    "* Demonstrate the types of loops\n",
    "* Discuss the syntax\n",
    "* Understand the concept of loop control\n",
    "* Discuss Iteration \n",
    "* Discuss Nested Loops\n",
    "* Enhancing Loop Functionality"
   ]
  },
  {
   "cell_type": "markdown",
   "metadata": {},
   "source": [
    "## Introduction to Repitition\n",
    "\n",
    "* Repitition if a fundamental concept in programming that involves performing the same set of instructions multiple times.\n",
    "* Used to automate tasks that require repeated execution of code example the *mpesa menu*.\n",
    "* Loops are a key mechanism in programming to achieve this repition efficiently."
   ]
  },
  {
   "cell_type": "code",
   "execution_count": 1,
   "metadata": {},
   "outputs": [
    {
     "name": "stdout",
     "output_type": "stream",
     "text": [
      "1\n",
      "2\n",
      "3\n"
     ]
    }
   ],
   "source": [
    "# consider a scenario counting 1 to 10\n",
    "print(1)\n",
    "print(2)\n",
    "print(3)"
   ]
  },
  {
   "cell_type": "code",
   "execution_count": 4,
   "metadata": {},
   "outputs": [
    {
     "name": "stdout",
     "output_type": "stream",
     "text": [
      "1\n",
      "2\n",
      "3\n",
      "4\n",
      "5\n",
      "6\n",
      "7\n",
      "8\n",
      "9\n",
      "10\n"
     ]
    }
   ],
   "source": [
    "# programming loops automate such repititive tasks\n",
    "for num in range(1, 11):\n",
    "    print(num)"
   ]
  },
  {
   "cell_type": "code",
   "execution_count": 10,
   "metadata": {},
   "outputs": [
    {
     "name": "stdout",
     "output_type": "stream",
     "text": [
      "Number: 0\n",
      "Number: 1\n",
      "Number: 2\n",
      "Number: 3\n",
      "Number: 4\n"
     ]
    }
   ],
   "source": [
    "# use while loops\n",
    "count = 0\n",
    "\n",
    "while (count < 5):\n",
    "    print(\"Number:\", count)\n",
    "    count += 1 # what does this code do?"
   ]
  },
  {
   "cell_type": "markdown",
   "metadata": {},
   "source": [
    "## What is a Loop? \n",
    "\n",
    "* A loop is programming construct that enables the repeated execution of a specific block of code(*indented code block*). \n",
    "* Loops are used when you want to automate a task that needs to be performed multiple times.\n",
    "* They control the flow of the program, allowing certain code to be executed repeatedly until a **condition is met**."
   ]
  },
  {
   "cell_type": "code",
   "execution_count": 11,
   "metadata": {},
   "outputs": [
    {
     "name": "stdout",
     "output_type": "stream",
     "text": [
      "55\n"
     ]
    }
   ],
   "source": [
    "# sum the numbers between 1 and 10 \n",
    "\n",
    "sum = 1 + 2 + 3 + 4 + 5 + 6 + 7 + 8 + 9 + 10\n",
    "\n",
    "print(sum)"
   ]
  },
  {
   "cell_type": "code",
   "execution_count": 12,
   "metadata": {},
   "outputs": [
    {
     "name": "stdout",
     "output_type": "stream",
     "text": [
      "55\n"
     ]
    }
   ],
   "source": [
    "# use a loop to find the sum of numbers between 1 and 10\n",
    "\n",
    "# declare a variable to store the sum\n",
    "sum = 0\n",
    "# creating a loop >> for loop\n",
    "for num in range(1, 11):  # range(1, 11) >> all the numbers between 1 and 11 excluding 11\n",
    "    # increament the value of sum by the value of the num \n",
    "    sum += num\n",
    "\n",
    "print(sum)"
   ]
  },
  {
   "cell_type": "markdown",
   "metadata": {},
   "source": [
    "## Control Flow \n",
    "\n",
    "* Loops influence the order in which instructions are executed.\n",
    "* When a loop is encountered, the program enters a loop body, executing the contained code.\n",
    "* Syntax \n",
    "\n",
    "```\n",
    "loop made of a condition:\n",
    "    contained block of\n",
    "    code to be executed\n",
    "    when condition in True/met\n",
    "\n",
    "program exits the loop \n",
    "```\n",
    "* At each iteration, the program checks the loop condition. If the condition remains **True**, the loop body is executed again.\n",
    "* If it becomes **False**, the program exits the loop.\n",
    "\n",
    "* **Iteration** - Refers to each cycle or repitition of a loop. "
   ]
  },
  {
   "cell_type": "code",
   "execution_count": 17,
   "metadata": {},
   "outputs": [
    {
     "name": "stdout",
     "output_type": "stream",
     "text": [
      "This is an example of a loop\n",
      "We are demonstrating while loops\n",
      "Countdown value: 5!!\n",
      "Countdown value: 4!!\n",
      "Countdown value: 3!!\n",
      "Countdown value: 2!!\n",
      "Countdown value: 1!!\n",
      "Exit loop!! and program continues\n"
     ]
    }
   ],
   "source": [
    "# demonstartion of control flow \n",
    "# assume the print statement below are blocks of code \n",
    "print(\"This is an example of a loop\")\n",
    "print(\"We are demonstrating while loops\")\n",
    "\n",
    "# loop to simulate a count down \n",
    "countdown = 5\n",
    "\n",
    "# our program meets a loop block >> while loop\n",
    "while (countdown > 0):\n",
    "    # code to execute when condition is true\n",
    "    print(f\"Countdown value: {countdown}!!\")\n",
    "    countdown -= 1\n",
    "\n",
    "# program exits the loop when condition in no longer met\n",
    "print(\"Exit loop!! and program continues\")\n"
   ]
  },
  {
   "cell_type": "markdown",
   "metadata": {},
   "source": [
    "## Types of loops \n",
    "\n",
    "* There are two main types of loops in python:\n",
    ">> ```for``` and ```while```\n",
    "* Type of loop you choose depends on whether you know the number of iterations in advance or if it depends on a condition."
   ]
  },
  {
   "cell_type": "markdown",
   "metadata": {},
   "source": [
    "### For Loop\n",
    "\n",
    "* Basic syntax \n",
    "\n",
    "```\n",
    "for item in sequence:\n",
    "    # code to be executed for each item\n",
    "    # ...\n",
    "```\n",
    "\n",
    "* `for`:  Keyword that signals the start of a for loop.\n",
    "* `item`:  Is a variable that represents the current item in the sequence during each iteration of the loop.\n",
    "* `in` :  A keyword used to specify that you are iterating *in* the given sequence.\n",
    "* `sequence` : Collection of items that you want to iterate over (e.g., list, string, tuple, or range).\n",
    "* `:` : Signifies the start of the indented code block that will be executed for each iteration of the loop. \n",
    "\n",
    "Inside the indented code block, you place the actions or operations that you want to perform on each item in the sequence.The loop will automatically iterate through the entire sequence, executing the code block for each item."
   ]
  },
  {
   "cell_type": "code",
   "execution_count": 23,
   "metadata": {},
   "outputs": [
    {
     "name": "stdout",
     "output_type": "stream",
     "text": [
      "Kisumu\n",
      "Kisii\n"
     ]
    }
   ],
   "source": [
    "# code demostration\n",
    "# list of high courts in Kenya\n",
    "high_courts = ['Kisumu', 'Kisii', 'Nyamira', 'Homa Bay', 'Migori', 'Kitale', 'Mandera']\n",
    "\n",
    "for court in high_courts:\n",
    "    # code block to execute for each item \n",
    "    print(court)\n",
    "    if (court == 'Kisii'):\n",
    "        break;\n"
   ]
  },
  {
   "cell_type": "markdown",
   "metadata": {},
   "source": [
    "### Sequence Types\n",
    "\n",
    "* Refers to data structures that hold a collection of elements, where each element is accessible by an index or a key.\n",
    "* These elements are ordered, meaning they have a specific position with the sequence. "
   ]
  },
  {
   "cell_type": "code",
   "execution_count": 30,
   "metadata": {},
   "outputs": [
    {
     "name": "stdout",
     "output_type": "stream",
     "text": [
      "['Kisumu', 'Kisii', 'Nyamira', 'Homa Bay', 'Migori', 'Kitale', 'Mandera']\n",
      "Homa Bay\n"
     ]
    }
   ],
   "source": [
    "# list \n",
    "\n",
    "print(high_courts)\n",
    "\n",
    "# accessing elements/items in a list by index \n",
    "print(high_courts[3])\n"
   ]
  },
  {
   "cell_type": "code",
   "execution_count": 32,
   "metadata": {},
   "outputs": [
    {
     "name": "stdout",
     "output_type": "stream",
     "text": [
      "kisumu\n",
      "kisii\n",
      "nyamira\n",
      "homa bay\n",
      "migori\n",
      "kitale\n",
      "mandera\n"
     ]
    }
   ],
   "source": [
    "# looping through list court \n",
    "for court in high_courts:\n",
    "    # code to execute \n",
    "    lower_case = court.lower()\n",
    "    print(lower_case)"
   ]
  },
  {
   "cell_type": "code",
   "execution_count": 41,
   "metadata": {},
   "outputs": [
    {
     "name": "stdout",
     "output_type": "stream",
     "text": [
      "('Kocheli', 'Solo', 'Nyambane', 'Yusuf')\n",
      "Kocheli\n"
     ]
    }
   ],
   "source": [
    "# tuple > Similar to lists, but they are immutable, meaning:\n",
    "# their contents cannot be changed after creation\n",
    "# syntax tuple_ name = (item1, item2, ...)\n",
    "\n",
    "noise_makers = (\"Kocheli\", \"Solo\", \"Nyambane\", \"Yusuf\")\n",
    "\n",
    "print(noise_makers)\n",
    "\n",
    "# accessing items in a tuple\n",
    " \n",
    "print(noise_makers[0])"
   ]
  },
  {
   "cell_type": "code",
   "execution_count": 42,
   "metadata": {},
   "outputs": [
    {
     "name": "stdout",
     "output_type": "stream",
     "text": [
      "Kocheli\n",
      "Solo\n",
      "Nyambane\n",
      "Yusuf\n"
     ]
    }
   ],
   "source": [
    "# loop through items in a tuple \n",
    "for notorious in noise_makers:\n",
    "    # code to be excuted \n",
    "    print(notorious)"
   ]
  },
  {
   "cell_type": "code",
   "execution_count": 43,
   "metadata": {},
   "outputs": [
    {
     "name": "stdout",
     "output_type": "stream",
     "text": [
      "J\n",
      "u\n",
      "d\n",
      "i\n",
      "c\n",
      "i\n",
      "a\n",
      "r\n",
      "y\n"
     ]
    }
   ],
   "source": [
    "# iterate through a string \n",
    "\n",
    "word = \"Judiciary\"\n",
    "\n",
    "for char in word:\n",
    "    print(char)"
   ]
  },
  {
   "cell_type": "code",
   "execution_count": 46,
   "metadata": {},
   "outputs": [
    {
     "name": "stdout",
     "output_type": "stream",
     "text": [
      "['J', 'u', 'd', 'i', 'c', 'i', 'a', 'r', 'y']\n"
     ]
    }
   ],
   "source": [
    "# empty list to store chars\n",
    "word_chars = []\n",
    "\n",
    "for char in word:\n",
    "    word_chars.append(char)\n",
    "\n",
    "print(word_chars)"
   ]
  },
  {
   "cell_type": "code",
   "execution_count": 47,
   "metadata": {},
   "outputs": [
    {
     "name": "stdout",
     "output_type": "stream",
     "text": [
      "[1, 3, 5, 7, 9]\n"
     ]
    }
   ],
   "source": [
    "# range \n",
    "\n",
    "# empty list to store odd numbers \n",
    "odd_nums = []\n",
    "\n",
    "for num in range(1, 10):\n",
    "    if (num % 2 == 1):\n",
    "        odd_nums.append(num)\n",
    "\n",
    "print(odd_nums)\n"
   ]
  },
  {
   "cell_type": "code",
   "execution_count": 48,
   "metadata": {},
   "outputs": [
    {
     "data": {
      "text/plain": [
       "list"
      ]
     },
     "execution_count": 48,
     "metadata": {},
     "output_type": "execute_result"
    }
   ],
   "source": [
    "new_list = []\n",
    "\n",
    "type(new_list)"
   ]
  },
  {
   "cell_type": "markdown",
   "metadata": {},
   "source": [
    "### Loop Body "
   ]
  },
  {
   "cell_type": "markdown",
   "metadata": {},
   "source": [
    "* Refers to the block of code that is executed repeatedly for each iteration of loop. \n",
    "* In programming, a loop is designed to perform repeated tasks automalitically and the loop body contains the instructions that define what those actions are."
   ]
  },
  {
   "cell_type": "markdown",
   "metadata": {},
   "source": [
    "#### Important points to consider:\n",
    "\n",
    "1. **indentation** -  The loop body is indented to indicate that is the part of the loop. It define the scope of the loop body. \n",
    "\n",
    "2. **iteration** - loop body is executed once for each item in the sequence that contains the elements upon which the instructions and execution will be repeated.\n",
    "\n",
    "3. **accessing loop variable** - the loop variable value can be accessed inside the loop body to perform specific actions to that value.\n",
    "\n",
    "4. **manipulation** - inside the loop body, you can perform various operations on the loop variable or use it to interact with other parts of the program."
   ]
  },
  {
   "cell_type": "code",
   "execution_count": 49,
   "metadata": {},
   "outputs": [
    {
     "name": "stdout",
     "output_type": "stream",
     "text": [
      "The square of 1 = 1\n",
      "The square of 2 = 4\n",
      "The square of 3 = 9\n",
      "The square of 4 = 16\n",
      "The square of 5 = 25\n"
     ]
    }
   ],
   "source": [
    "# example \n",
    "\n",
    "for num in range(1, 6):\n",
    "    square = num ** 2\n",
    "    print(f\"The square of {num} = {square}\")\n"
   ]
  },
  {
   "cell_type": "code",
   "execution_count": 51,
   "metadata": {},
   "outputs": [
    {
     "name": "stdout",
     "output_type": "stream",
     "text": [
      "Hello Dominic, welcome to training!!\n"
     ]
    }
   ],
   "source": [
    "def greet_students(student_name):\n",
    "    \"\"\"Simple function to welcome students\"\"\"\n",
    "    message = f\"Hello {student_name}, welcome to training!!\"\n",
    "\n",
    "    return print(message)\n",
    "\n",
    "greet_students(\"Dominic\")"
   ]
  },
  {
   "cell_type": "code",
   "execution_count": 57,
   "metadata": {},
   "outputs": [
    {
     "name": "stdout",
     "output_type": "stream",
     "text": [
      "Hello Prof, welcome to training!!\n",
      "Hello Kirui, welcome to training!!\n",
      "Hello Mercy, welcome to training!!\n",
      "Hello Lumumba, welcome to training!!\n"
     ]
    }
   ],
   "source": [
    "student_names = ['Prof', 'Kirui', 'Mercy', 'Lumumba']\n",
    "\n",
    "# loop body with a function\n",
    "for name in student_names:\n",
    "    greet_students(name)"
   ]
  },
  {
   "cell_type": "markdown",
   "metadata": {},
   "source": [
    "### `range()`\n",
    "\n",
    "* a function commonly used especially when working with loops.\n",
    "* Generates a sequence of numbers within a specified range, which can be used for various purposes, e.g., iterating through a loop of certain numbers or creating a list of numbers.\n",
    "* `range()` takes up to three arguments:\n",
    "\n",
    "1. **start(inclusive, optional)** - The starting value of the sequence. If omitted, the sequence starts from zero by default.\n",
    "2. **stop(exclusive)** - The ending value of the sequence. The sequence will go up to the value, but not include the value in the sequence. example if stop is 50, and start is 0, the sequence will be all the numbers including 0 to 49, but not 50.\n",
    "3. **step(optional)** - The difference between consecutive values in the sequence. By default, the value of step is 1.\n",
    "\n",
    "* syntax \n",
    "```range(start, stop, step)```\n"
   ]
  },
  {
   "cell_type": "markdown",
   "metadata": {},
   "source": [
    "#### Basic range\n",
    "\n",
    "* Only using stop to generate a sequence of numbers from 0 to 10\n",
    "* Remember if you dont include start and step, python will automatically pick the numbers 0 and 1 as the default value for stop and step"
   ]
  },
  {
   "cell_type": "code",
   "execution_count": 58,
   "metadata": {},
   "outputs": [
    {
     "name": "stdout",
     "output_type": "stream",
     "text": [
      "0\n",
      "1\n",
      "2\n",
      "3\n",
      "4\n",
      "5\n",
      "6\n",
      "7\n",
      "8\n",
      "9\n",
      "10\n"
     ]
    }
   ],
   "source": [
    "# from 0 to 10\n",
    "\n",
    "for num in range(11):\n",
    "    print(num)"
   ]
  },
  {
   "cell_type": "markdown",
   "metadata": {},
   "source": [
    "#### Specifying start and stop\n",
    "\n",
    "* generate a sequence where we specify the start of the sequence."
   ]
  },
  {
   "cell_type": "code",
   "execution_count": 59,
   "metadata": {},
   "outputs": [
    {
     "name": "stdout",
     "output_type": "stream",
     "text": [
      "30\n",
      "31\n",
      "32\n",
      "33\n",
      "34\n",
      "35\n",
      "36\n",
      "37\n",
      "38\n",
      "39\n",
      "40\n"
     ]
    }
   ],
   "source": [
    "# numbers between 30 and 40\n",
    "\n",
    "for num in range(30, 41):\n",
    "    print(num)"
   ]
  },
  {
   "cell_type": "markdown",
   "metadata": {},
   "source": [
    "#### Specifying start, stop and step\n",
    "\n",
    "* step is the difference between two consectuive numbers.\n"
   ]
  },
  {
   "cell_type": "code",
   "execution_count": 62,
   "metadata": {},
   "outputs": [
    {
     "name": "stdout",
     "output_type": "stream",
     "text": [
      "6\n",
      "9\n",
      "12\n",
      "15\n",
      "18\n",
      "21\n",
      "24\n",
      "27\n",
      "30\n"
     ]
    }
   ],
   "source": [
    "# start at number 6\n",
    "# stop at 30\n",
    "# step - difference between two consectutive values is 3\n",
    "for num in range(6, 31, 3):\n",
    "    print(num)"
   ]
  },
  {
   "cell_type": "code",
   "execution_count": 67,
   "metadata": {},
   "outputs": [
    {
     "name": "stdout",
     "output_type": "stream",
     "text": [
      "[1, 3, 5, 7, 9, 11, 13, 15, 17, 19, 21, 23, 25, 27, 29, 31, 33, 35, 37, 39, 41, 43, 45, 47, 49, 51, 53, 55, 57, 59, 61, 63, 65, 67, 69, 71, 73, 75, 77, 79, 81, 83, 85, 87, 89, 91, 93, 95, 97, 99]\n"
     ]
    }
   ],
   "source": [
    "# discalimer -- for demo purposes only!!\n",
    "odd_numbers = []\n",
    "for num in range(1, 101, 2):\n",
    "    odd_numbers.append(num)\n",
    "\n",
    "print(odd_numbers)"
   ]
  },
  {
   "cell_type": "code",
   "execution_count": 68,
   "metadata": {},
   "outputs": [
    {
     "name": "stdout",
     "output_type": "stream",
     "text": [
      "['Prof', 'Kirui', 'Mercy', 'Lumumba']\n"
     ]
    }
   ],
   "source": [
    "print(student_names)"
   ]
  },
  {
   "cell_type": "code",
   "execution_count": 70,
   "metadata": {},
   "outputs": [
    {
     "name": "stdout",
     "output_type": "stream",
     "text": [
      "P\n",
      "r\n",
      "o\n",
      "f\n",
      "\n",
      "Prof\n",
      "Kirui\n",
      "Mercy\n",
      "Lumumba\n"
     ]
    }
   ],
   "source": [
    "item_1 = student_names[0]\n",
    "\n",
    "for letters in item_1:\n",
    "    print(letters)\n",
    "print()\n",
    "for students in student_names:\n",
    "    print(students)"
   ]
  },
  {
   "cell_type": "code",
   "execution_count": 72,
   "metadata": {},
   "outputs": [
    {
     "name": "stdout",
     "output_type": "stream",
     "text": [
      "P\n",
      "r\n",
      "o\n",
      "f\n",
      "\n",
      "K\n",
      "i\n",
      "r\n",
      "u\n",
      "i\n",
      "\n",
      "M\n",
      "e\n",
      "r\n",
      "c\n",
      "y\n",
      "\n",
      "L\n",
      "u\n",
      "m\n",
      "u\n",
      "m\n",
      "b\n",
      "a\n",
      "\n"
     ]
    }
   ],
   "source": [
    "# nested loops - a loop within a loop, ie the second loop is within the loop body of the first loop\n",
    "\n",
    "for student in student_names: # first loop\n",
    "    for letter in student: # second loop\n",
    "        print(letter)\n",
    "    print() # line break after every name \n"
   ]
  },
  {
   "cell_type": "markdown",
   "metadata": {},
   "source": [
    "```\n",
    "*\n",
    "* *\n",
    "* * * \n",
    "* * * *\n",
    "```"
   ]
  },
  {
   "cell_type": "code",
   "execution_count": 77,
   "metadata": {},
   "outputs": [
    {
     "name": "stdout",
     "output_type": "stream",
     "text": [
      "* \n",
      "* * \n",
      "* * * \n",
      "* * * * \n"
     ]
    }
   ],
   "source": [
    "# define the number of rows \n",
    "num_rows = 4\n",
    "\n",
    "# outer loop for rows \n",
    "for i in range(num_rows):\n",
    "    # inner loop for printing asterisks (*) \n",
    "    for j in range(i + 1):\n",
    "        print(\"*\", end=\" \")\n",
    "    # move to the next line after each row is printed\n",
    "    print()\n",
    "\n"
   ]
  },
  {
   "cell_type": "code",
   "execution_count": null,
   "metadata": {},
   "outputs": [],
   "source": []
  }
 ],
 "metadata": {
  "kernelspec": {
   "display_name": "Python 3",
   "language": "python",
   "name": "python3"
  },
  "language_info": {
   "codemirror_mode": {
    "name": "ipython",
    "version": 3
   },
   "file_extension": ".py",
   "mimetype": "text/x-python",
   "name": "python",
   "nbconvert_exporter": "python",
   "pygments_lexer": "ipython3",
   "version": "3.11.3"
  },
  "orig_nbformat": 4
 },
 "nbformat": 4,
 "nbformat_minor": 2
}
