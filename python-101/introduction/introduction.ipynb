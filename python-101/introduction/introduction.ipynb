{
  "cells": [
    {
      "cell_type": "markdown",
      "metadata": {
        "id": "1Zk1Sdy-OyXB"
      },
      "source": [
        "# Introduction to Python"
      ]
    },
    {
      "cell_type": "markdown",
      "metadata": {
        "id": "bcPOQrHZOyXT"
      },
      "source": [
        "![anything_here](logo.jpeg)"
      ]
    },
    {
      "cell_type": "markdown",
      "metadata": {
        "id": "8k9XXTRWOyXx"
      },
      "source": [
        "## Objectives"
      ]
    },
    {
      "cell_type": "markdown",
      "metadata": {
        "id": "lnsKisXfOyXy"
      },
      "source": [
        "* Understanding Variables\n",
        "* Python Variable Naming Rules\n",
        "* Declaring Variables\n",
        "* Data Types and Type Inference\n",
        "* Variable Assignment\n",
        "* Variable Reassignment\n",
        "* Variable Scope\n",
        "* Best Practices for Variable Usage\n",
        "* Common Mistakes and Troubleshooting\n",
        "* Practical Applications\n",
        "* Exercises and Hands-On Practice"
      ]
    },
    {
      "cell_type": "markdown",
      "metadata": {
        "id": "D2PWeZMnOyX0"
      },
      "source": [
        "## Poetry"
      ]
    },
    {
      "cell_type": "code",
      "execution_count": null,
      "metadata": {
        "id": "mUXgj4yfOyX1",
        "outputId": "fe7e0ebe-f557-4f11-eba7-7081898094ba"
      },
      "outputs": [
        {
          "name": "stdout",
          "output_type": "stream",
          "text": [
            "The Zen of Python, by Tim Peters\n",
            "\n",
            "Beautiful is better than ugly.\n",
            "Explicit is better than implicit.\n",
            "Simple is better than complex.\n",
            "Complex is better than complicated.\n",
            "Flat is better than nested.\n",
            "Sparse is better than dense.\n",
            "Readability counts.\n",
            "Special cases aren't special enough to break the rules.\n",
            "Although practicality beats purity.\n",
            "Errors should never pass silently.\n",
            "Unless explicitly silenced.\n",
            "In the face of ambiguity, refuse the temptation to guess.\n",
            "There should be one-- and preferably only one --obvious way to do it.\n",
            "Although that way may not be obvious at first unless you're Dutch.\n",
            "Now is better than never.\n",
            "Although never is often better than *right* now.\n",
            "If the implementation is hard to explain, it's a bad idea.\n",
            "If the implementation is easy to explain, it may be a good idea.\n",
            "Namespaces are one honking great idea -- let's do more of those!\n"
          ]
        }
      ],
      "source": [
        "# code goes here\n",
        "import this"
      ]
    },
    {
      "cell_type": "markdown",
      "metadata": {
        "id": "DmY5yHTDOyX4"
      },
      "source": [
        "## Variables"
      ]
    },
    {
      "cell_type": "markdown",
      "metadata": {
        "id": "-BmKDQg1OyX5"
      },
      "source": [
        "### What is a Variable?"
      ]
    },
    {
      "cell_type": "markdown",
      "metadata": {
        "id": "fCOzrqVEOyX5"
      },
      "source": [
        "* A **variable** is a named storage location used to hold and represent data within a computer program.\n",
        "* It serves as a symbolic representation of a value that can be accessed and manipulated by the program during its execution.\n",
        "* Variables allow programmers to store and manage data of various types, such as *numbers*, *text*, and *objects*, making it easier to perform computations, process information, and control the flow of a program.\n",
        "* When a variable is created, it is allocated a specific memory location in the computer's memory, and the data assigned to that variable is stored at that location.\n",
        "* The value stored in a variable can be changed or updated during the program's execution, which is why the term *variable* is used, as it can vary over time.\n",
        "* Variables play a crucial role in programming, as they enable the reuse and manipulation of data, making code more efficient and flexible."
      ]
    },
    {
      "cell_type": "code",
      "execution_count": null,
      "metadata": {
        "id": "_fWw4nknOyX6",
        "outputId": "2271c824-19f7-4ed7-fca1-6ca32277cfde"
      },
      "outputs": [
        {
          "name": "stdout",
          "output_type": "stream",
          "text": [
            "My name is Antonny.\n"
          ]
        }
      ],
      "source": [
        "# code goes here\n",
        "sentence = \"My name is Antonny.\"\n",
        "print(sentence)"
      ]
    },
    {
      "cell_type": "code",
      "execution_count": null,
      "metadata": {
        "id": "ZqhPDzH2OyX8",
        "outputId": "67b732af-a721-4bc5-b1c3-6c14bc613614"
      },
      "outputs": [
        {
          "name": "stdout",
          "output_type": "stream",
          "text": [
            "My name is Antonny.\n"
          ]
        }
      ],
      "source": [
        "print(sentence)"
      ]
    },
    {
      "cell_type": "code",
      "execution_count": null,
      "metadata": {
        "id": "8326d3lvOyX9",
        "outputId": "6b8e2917-0e37-4faf-9434-57863250661d"
      },
      "outputs": [
        {
          "name": "stdout",
          "output_type": "stream",
          "text": [
            "11\n"
          ]
        }
      ],
      "source": [
        "# variable a to store value 5\n",
        "a = 5\n",
        "# variable b to store value 6\n",
        "b = 6\n",
        "# variable to store sum of 5 and 6\n",
        "sum = a + b\n",
        "\n",
        "print(sum)"
      ]
    },
    {
      "cell_type": "markdown",
      "metadata": {
        "id": "4LVvtNlxOyX9"
      },
      "source": [
        "### Importance of variables in storing and managing data during program execution."
      ]
    },
    {
      "cell_type": "markdown",
      "metadata": {
        "id": "6xy_7bJuOyX-"
      },
      "source": [
        "* **Data Storage**: Variables act as containers for holding different types of data, such as numbers, strings, lists, and more"
      ]
    },
    {
      "cell_type": "code",
      "execution_count": null,
      "metadata": {
        "id": "EQ1xb42TOyX-",
        "outputId": "a6aa7ec0-eb36-4238-b947-5e60b9e81399"
      },
      "outputs": [
        {
          "name": "stdout",
          "output_type": "stream",
          "text": [
            "Antonny\n"
          ]
        }
      ],
      "source": [
        "# code goes here\n",
        "first_name = \"Antonny\"\n",
        "\n",
        "print(first_name)"
      ]
    },
    {
      "cell_type": "code",
      "execution_count": null,
      "metadata": {
        "id": "uGZgkgsROyX_",
        "outputId": "2fb70254-6adb-4c36-9dd4-6a2cbe55bc77"
      },
      "outputs": [
        {
          "name": "stdout",
          "output_type": "stream",
          "text": [
            "Antonny Muiko\n"
          ]
        }
      ],
      "source": [
        "# variable to store second name\n",
        "second_name = 'Muiko'\n",
        "\n",
        "print(first_name, second_name)"
      ]
    },
    {
      "cell_type": "markdown",
      "metadata": {
        "id": "5jbTuuPdOyX_"
      },
      "source": [
        "* **Data Manipulation**: By storing data in variables, programmers can easily manipulate and process it."
      ]
    },
    {
      "cell_type": "code",
      "execution_count": null,
      "metadata": {
        "id": "8dV82ocoOyX_",
        "outputId": "29b516ee-2e30-4d03-8f5e-780380638737"
      },
      "outputs": [
        {
          "name": "stdout",
          "output_type": "stream",
          "text": [
            "MUIKO\n",
            "muiko\n"
          ]
        }
      ],
      "source": [
        "# code goes here\n",
        "# manipulating text\n",
        "print(second_name.upper())\n",
        "print(second_name.lower())\n"
      ]
    },
    {
      "cell_type": "markdown",
      "metadata": {
        "id": "PqLiGMDQOyYA"
      },
      "source": [
        "* **Data Reusability**: Once data is stored in variables, it becomes reusable throughout the program. Instead of having to re-enter or recalculate data, variables allow programmers to use the same data multiple times, reducing redundancy and improving code readability."
      ]
    },
    {
      "cell_type": "code",
      "execution_count": null,
      "metadata": {
        "id": "6UNj378cOyYA"
      },
      "outputs": [],
      "source": [
        "# code goes here"
      ]
    },
    {
      "cell_type": "markdown",
      "metadata": {
        "id": "25mwGBpYOyYA"
      },
      "source": [
        "* **Program Flow Control**: Variables are often used in control structures such as loops and conditional statements."
      ]
    },
    {
      "cell_type": "code",
      "execution_count": null,
      "metadata": {
        "id": "loGL8DM-OyYB"
      },
      "outputs": [],
      "source": [
        "# codes goes here"
      ]
    },
    {
      "cell_type": "markdown",
      "metadata": {
        "id": "4w6k6ODMOyYB"
      },
      "source": [
        "### Rules for naming variables in Python."
      ]
    },
    {
      "cell_type": "markdown",
      "metadata": {
        "id": "UZa3fvrlOyYC"
      },
      "source": [
        "* **Valid Characters**: Variable names can contain letters ```(a-z, A-Z)```, digits ```(0-9)```, and underscores ```(_)```. They **cannot** start with a digit. For instance, you can call a variable ```message_1``` but not ```1_message```.\n",
        "\n",
        "* **No Special Characters**: Variable names should not include spaces or any special characters like ```!```, ```@```,``` #```,``` $```,``` %```, etc.\n",
        "\n",
        "* **Case-Sensitivity**: Python variable names are case-sensitive, meaning that variables with different letter cases are considered distinct. For example, ```name```, ```Name```, and ```NAME``` are three different variables.\n",
        "\n",
        "* **Reserved Keywords**: Avoid using Python's reserved keywords as variable names, as they have predefined meanings in the language. Some examples of reserved keywords include ```if```, ```else```, ```while```, ```for```, ```def```, ```class```, ```import```, and ```True```.\n",
        "\n",
        "* **Descriptive and Readable**: Choose descriptive and meaningful variable names that convey the purpose or content of the data they store. This improves the code's readability and makes it easier for others (and your future self) to understand the code.\n",
        "\n",
        "* **Snake Case**: In Python, the convention for multi-word variable names is to use snake case, which involves writing all lowercase letters and separating words with underscores. For example, ```user_age```, ```item_list```, and ```total_count``` are all valid snake case variable names.\n",
        "\n",
        "* **Length Limitation**: While Python allows variable names of any length, it's advisable to keep them reasonably concise to avoid excessive typing and enhance code readability."
      ]
    },
    {
      "cell_type": "markdown",
      "metadata": {
        "id": "Yjdq5PXnOyYD"
      },
      "source": [
        "### Avoiding Name Errors When Using Variables"
      ]
    },
    {
      "cell_type": "markdown",
      "metadata": {
        "id": "8T6_Aq5MOyYD"
      },
      "source": [
        "* Every programmer makes mistakes, and most make mistakes every day.\n",
        "* This Mistakes will results into errors, and good programmers know how to respond to those error efficiently."
      ]
    },
    {
      "cell_type": "code",
      "execution_count": null,
      "metadata": {
        "id": "LrrXNgoyOyYD"
      },
      "outputs": [],
      "source": [
        "# code goes here"
      ]
    },
    {
      "cell_type": "markdown",
      "metadata": {
        "id": "NQ7qqUG_OyYE"
      },
      "source": [
        "* Python Interpreter does its best to help you figure out where the problem is by providing a **traceback**.\n",
        "* A *traceback* is a record of where a the interpreter ran into trouble when trying to excute your code.\n",
        "* A **name error** usually means we either forgot to set a variable’s value before using it, or we made a spelling mistake when entering the variable’s name."
      ]
    },
    {
      "cell_type": "markdown",
      "metadata": {
        "id": "mNWX37axOyYE"
      },
      "source": [
        "<details>\n",
        "    <summary>📝</summary>\n",
        "\n",
        "    In the whimsical realm of programming, tiny typos and one-character errors amuse even seasoned wizards of code! Like mischievous gremlins, they love to play tricks, leading programmers on wild goose chases. But fear not, for these humorous escapades are a common part of the journey. Embrace the challenge with laughter and patience, celebrating each victory as you outwit those pesky bugs. Picture yourself as a fearless code-warrior, chasing golden snitches in the mystical world of coding. So, laugh it off, for with each typo found, you become a more skilled and resilient programmer. Happy coding, and may the debug force be with you on this enchanting quest! 🚀😄\n",
        "    \n",
        "</details>"
      ]
    },
    {
      "cell_type": "markdown",
      "metadata": {
        "id": "QpsG2EoFOyYF"
      },
      "source": [
        "### Knock yourself out"
      ]
    },
    {
      "cell_type": "markdown",
      "metadata": {
        "id": "iUKuOKZUOyYF"
      },
      "source": [
        "1. Assign a message to a variable, and then print that message.\n",
        "2. Change the value of the variable to a new message, and print the new message."
      ]
    },
    {
      "cell_type": "markdown",
      "metadata": {
        "id": "Rkf-bvg6OyYG"
      },
      "source": [
        "## Data Types"
      ]
    },
    {
      "cell_type": "markdown",
      "metadata": {
        "id": "o_qSVZrfOyYG"
      },
      "source": [
        "* **Data types** define the type of data that can be stored in a variable or used in a program.\n",
        "* Each programming language has a set of built-in data types to represent different kinds of values, such as numbers, characters, strings, and more complex structures like arrays and objects.\n",
        "Common data types include ```integers (int)```, ```floating-point numbers (float)```, ```characters (char)```, ```strings (str)```, ```Boolean values (bool)```, and many others.\n",
        "* Data types help determine the operations that can be performed on the data and the amount of memory required to store it."
      ]
    },
    {
      "cell_type": "code",
      "execution_count": null,
      "metadata": {
        "colab": {
          "base_uri": "https://localhost:8080/"
        },
        "id": "-Nf_R-2zOyYG",
        "outputId": "047043f9-34bf-414d-da50-c399cbef3956"
      },
      "outputs": [
        {
          "data": {
            "text/plain": [
              "str"
            ]
          },
          "execution_count": 1,
          "metadata": {},
          "output_type": "execute_result"
        }
      ],
      "source": [
        "# code goes here\n",
        "name = \"Antonny\"\n",
        "type(name)"
      ]
    },
    {
      "cell_type": "code",
      "execution_count": null,
      "metadata": {
        "colab": {
          "base_uri": "https://localhost:8080/"
        },
        "id": "LqecJZhuPlW8",
        "outputId": "928745b8-ee4b-4015-ac14-433dacd8ca23"
      },
      "outputs": [
        {
          "data": {
            "text/plain": [
              "int"
            ]
          },
          "execution_count": 2,
          "metadata": {},
          "output_type": "execute_result"
        }
      ],
      "source": [
        "id = 4576\n",
        "type(id)"
      ]
    },
    {
      "cell_type": "code",
      "execution_count": null,
      "metadata": {
        "colab": {
          "base_uri": "https://localhost:8080/"
        },
        "id": "RcfETpLdP3EE",
        "outputId": "6c4ac75f-6173-4414-9b81-373efa4ecc47"
      },
      "outputs": [
        {
          "data": {
            "text/plain": [
              "float"
            ]
          },
          "execution_count": 4,
          "metadata": {},
          "output_type": "execute_result"
        }
      ],
      "source": [
        "bal = 4.56\n",
        "type(bal)"
      ]
    },
    {
      "cell_type": "code",
      "execution_count": null,
      "metadata": {
        "colab": {
          "base_uri": "https://localhost:8080/"
        },
        "id": "3b3gi6qsPzNh",
        "outputId": "40800036-9903-4233-9c7b-65a7c461a1fc"
      },
      "outputs": [
        {
          "data": {
            "text/plain": [
              "bool"
            ]
          },
          "execution_count": 3,
          "metadata": {},
          "output_type": "execute_result"
        }
      ],
      "source": [
        "type(True)"
      ]
    },
    {
      "cell_type": "markdown",
      "metadata": {
        "id": "iMg2qjhZOyYH"
      },
      "source": [
        "### Strings"
      ]
    },
    {
      "cell_type": "markdown",
      "metadata": {
        "id": "j6fN7ExWOyYH"
      },
      "source": [
        "A **string** is a series of characters. Anything inside quotes is considered a string in Python, and you can use single or double quotes around your strings like this:"
      ]
    },
    {
      "cell_type": "code",
      "execution_count": null,
      "metadata": {
        "id": "-lqfdk_pOyYH"
      },
      "outputs": [],
      "source": [
        "# code goes here\n",
        "first_name = \"Antonny\"\n",
        "\n",
        "second_name = 'Muiko'"
      ]
    },
    {
      "cell_type": "code",
      "execution_count": null,
      "metadata": {
        "colab": {
          "base_uri": "https://localhost:8080/"
        },
        "id": "mLDnr7tQQNeJ",
        "outputId": "b0c41d99-21b6-48e8-f387-004d35c4603f"
      },
      "outputs": [
        {
          "data": {
            "text/plain": [
              "str"
            ]
          },
          "execution_count": 6,
          "metadata": {},
          "output_type": "execute_result"
        }
      ],
      "source": [
        "id_no = '12345'\n",
        "\n",
        "type(id_no)"
      ]
    },
    {
      "cell_type": "markdown",
      "metadata": {
        "id": "ymYDKeB6OyYH"
      },
      "source": [
        "* This flexibility allows you to use quotes and apostrophes within your string"
      ]
    },
    {
      "cell_type": "code",
      "execution_count": null,
      "metadata": {
        "colab": {
          "base_uri": "https://localhost:8080/"
        },
        "id": "OnjKTi44OyYI",
        "outputId": "771a050e-3c3a-4104-b12e-f8214b033d50"
      },
      "outputs": [
        {
          "name": "stdout",
          "output_type": "stream",
          "text": [
            "Antony's computer\n"
          ]
        }
      ],
      "source": [
        "# code goes here\n",
        "\n",
        "words = \"Antony's computer\"\n",
        "\n",
        "print(words)"
      ]
    },
    {
      "cell_type": "code",
      "execution_count": null,
      "metadata": {
        "colab": {
          "base_uri": "https://localhost:8080/",
          "height": 135
        },
        "id": "ozfY0j8QQiyc",
        "outputId": "29c55ec1-a258-4e0d-9351-071ea10a4f13"
      },
      "outputs": [
        {
          "ename": "SyntaxError",
          "evalue": "ignored",
          "output_type": "error",
          "traceback": [
            "\u001b[0;36m  File \u001b[0;32m\"<ipython-input-8-07bd444f5b33>\"\u001b[0;36m, line \u001b[0;32m1\u001b[0m\n\u001b[0;31m    error_words = 'Muiko's' Computer\u001b[0m\n\u001b[0m                          ^\u001b[0m\n\u001b[0;31mSyntaxError\u001b[0m\u001b[0;31m:\u001b[0m unterminated string literal (detected at line 1)\n"
          ]
        }
      ],
      "source": [
        "error_words = 'Muiko's' Computer\n",
        "\n",
        "print(error_words)"
      ]
    },
    {
      "cell_type": "code",
      "execution_count": null,
      "metadata": {
        "colab": {
          "base_uri": "https://localhost:8080/"
        },
        "id": "_V8Ye53lRXBO",
        "outputId": "27bf0840-5b2e-4acb-8fe5-fc86d1034f12"
      },
      "outputs": [
        {
          "name": "stdout",
          "output_type": "stream",
          "text": [
            "John Ng'ang'a\n"
          ]
        }
      ],
      "source": [
        "judge = \"John Ng'ang'a\"\n",
        "print(judge)"
      ]
    },
    {
      "cell_type": "markdown",
      "metadata": {
        "id": "4wjg5OHAOyYQ"
      },
      "source": [
        "#### Changing Case in a string with Methods"
      ]
    },
    {
      "cell_type": "markdown",
      "metadata": {
        "id": "_qZpJfeWOyYQ"
      },
      "source": [
        "* One simple task you can do with strings is change the case of the words in a string."
      ]
    },
    {
      "cell_type": "code",
      "execution_count": null,
      "metadata": {
        "colab": {
          "base_uri": "https://localhost:8080/",
          "height": 35
        },
        "id": "xL23wDKUOyYQ",
        "outputId": "d9ea8235-9ea2-4c21-fa10-449aba237e2c"
      },
      "outputs": [
        {
          "data": {
            "application/vnd.google.colaboratory.intrinsic+json": {
              "type": "string"
            },
            "text/plain": [
              "'Antonny'"
            ]
          },
          "execution_count": 11,
          "metadata": {},
          "output_type": "execute_result"
        }
      ],
      "source": [
        "# code goes here\n",
        "first_name"
      ]
    },
    {
      "cell_type": "markdown",
      "metadata": {
        "id": "PGfM5Xj5OyYR"
      },
      "source": [
        "* ```title()``` - Changes each word to title case, where each word begins with a capital letter.\n",
        "* ```lower()``` - changes a string to all lowercase.\n",
        "* ```upper()``` -   CHANGES A STRING TO ALL UPPERCASE."
      ]
    },
    {
      "cell_type": "code",
      "execution_count": null,
      "metadata": {
        "colab": {
          "base_uri": "https://localhost:8080/"
        },
        "id": "_rxtkyb2OyYR",
        "outputId": "a4686c78-5c08-4d9b-c8e0-1fcf546068bb"
      },
      "outputs": [
        {
          "name": "stdout",
          "output_type": "stream",
          "text": [
            "Moringa School\n"
          ]
        }
      ],
      "source": [
        "# code goes here\n",
        "school = 'moringa school'\n",
        "\n",
        "print(school.title())"
      ]
    },
    {
      "cell_type": "code",
      "execution_count": null,
      "metadata": {
        "colab": {
          "base_uri": "https://localhost:8080/"
        },
        "id": "8fG73Vs4SFmY",
        "outputId": "69582713-bd3b-4056-e1c9-110ec84d82d1"
      },
      "outputs": [
        {
          "name": "stdout",
          "output_type": "stream",
          "text": [
            "MORINGA SCHOOL\n"
          ]
        }
      ],
      "source": [
        "print(school.upper())"
      ]
    },
    {
      "cell_type": "markdown",
      "metadata": {
        "id": "cyCn2yHmOyYR"
      },
      "source": [
        "#### Using variables in strings"
      ]
    },
    {
      "cell_type": "markdown",
      "metadata": {
        "id": "3wSTkC_IOyYS"
      },
      "source": [
        "* In some situations, you'll want to use a variable's value inside a string."
      ]
    },
    {
      "cell_type": "code",
      "execution_count": null,
      "metadata": {
        "colab": {
          "base_uri": "https://localhost:8080/"
        },
        "id": "GIhdxGIOOyYS",
        "outputId": "51da0821-5e15-49b9-b086-bd7b5f545bac"
      },
      "outputs": [
        {
          "name": "stdout",
          "output_type": "stream",
          "text": [
            "Antonny\n",
            "Muiko\n"
          ]
        }
      ],
      "source": [
        "# code goes here\n",
        "print(first_name)\n",
        "print(second_name)"
      ]
    },
    {
      "cell_type": "markdown",
      "metadata": {
        "id": "FtOijXEfOyYT"
      },
      "source": [
        "1. ```f-strings``` - Python formats the string by replacing the name of any variable in braces with its value."
      ]
    },
    {
      "cell_type": "code",
      "execution_count": null,
      "metadata": {
        "colab": {
          "base_uri": "https://localhost:8080/"
        },
        "id": "Legub15bOyYT",
        "outputId": "9925c0c6-ad35-42ca-b749-2572e1f6c6b0"
      },
      "outputs": [
        {
          "name": "stdout",
          "output_type": "stream",
          "text": [
            "Antonny Muiko\n"
          ]
        }
      ],
      "source": [
        "# code goes here\n",
        "full_name = f\"{first_name} {second_name}\"\n",
        "print(full_name)"
      ]
    },
    {
      "cell_type": "code",
      "execution_count": null,
      "metadata": {
        "colab": {
          "base_uri": "https://localhost:8080/"
        },
        "id": "A00AeBgfS0ip",
        "outputId": "74ad348a-74f0-43cc-f8ac-7d7db15ec4a9"
      },
      "outputs": [
        {
          "name": "stdout",
          "output_type": "stream",
          "text": [
            "The student Antonny Muiko scored the highest grade.\n"
          ]
        }
      ],
      "source": [
        "learn = f\"The student {first_name} {second_name} scored the highest grade.\"\n",
        "print(learn)"
      ]
    },
    {
      "cell_type": "code",
      "execution_count": null,
      "metadata": {
        "colab": {
          "base_uri": "https://localhost:8080/"
        },
        "id": "7gsm0sKVU4KW",
        "outputId": "89401a2c-8785-475c-bd5d-a435a91814e3"
      },
      "outputs": [
        {
          "name": "stdout",
          "output_type": "stream",
          "text": [
            "The dataset has 120 rows.\n"
          ]
        }
      ],
      "source": [
        "row = 120\n",
        "\n",
        "print(f'The dataset has {row} rows.')"
      ]
    },
    {
      "cell_type": "markdown",
      "metadata": {
        "id": "TD6RrOYrOyYT"
      },
      "source": [
        "2. ```format``` - longer version of f-strings."
      ]
    },
    {
      "cell_type": "code",
      "execution_count": null,
      "metadata": {
        "colab": {
          "base_uri": "https://localhost:8080/"
        },
        "id": "thUdon-WOyYU",
        "outputId": "8a15739c-638d-4072-a156-71f857730415"
      },
      "outputs": [
        {
          "name": "stdout",
          "output_type": "stream",
          "text": [
            "The dataset has 120 rows\n"
          ]
        }
      ],
      "source": [
        "# code goes here\n",
        "\n",
        "print('The dataset has {} rows.'.format(row))"
      ]
    },
    {
      "cell_type": "code",
      "execution_count": null,
      "metadata": {
        "colab": {
          "base_uri": "https://localhost:8080/"
        },
        "id": "DkStpTYEVgDC",
        "outputId": "955f6bc4-6d39-43bd-c66a-bc6eab63d942"
      },
      "outputs": [
        {
          "name": "stdout",
          "output_type": "stream",
          "text": [
            "The student Antonny Muiko scored the lowest score in class.\n"
          ]
        }
      ],
      "source": [
        "class_score = \"The student {} {} scored the lowest score in class.\".format(first_name, second_name)\n",
        "print(class_score)"
      ]
    },
    {
      "cell_type": "markdown",
      "metadata": {
        "id": "ccQ1YJxoOyYU"
      },
      "source": [
        "3. ```concatenation``` - using the ```+``` sign to join strings."
      ]
    },
    {
      "cell_type": "code",
      "execution_count": null,
      "metadata": {
        "colab": {
          "base_uri": "https://localhost:8080/",
          "height": 35
        },
        "id": "n9kPeK1_OyYV",
        "outputId": "5aecf34f-09c4-436b-db2e-71650abe3684"
      },
      "outputs": [
        {
          "data": {
            "application/vnd.google.colaboratory.intrinsic+json": {
              "type": "string"
            },
            "text/plain": [
              "'11'"
            ]
          },
          "execution_count": 25,
          "metadata": {},
          "output_type": "execute_result"
        }
      ],
      "source": [
        "# code goes here\n",
        "\n",
        "'1' + '1'\n"
      ]
    },
    {
      "cell_type": "code",
      "execution_count": null,
      "metadata": {
        "colab": {
          "base_uri": "https://localhost:8080/"
        },
        "id": "HQsjoXHaX33-",
        "outputId": "c70bcebf-12f6-4ad1-f0c2-df9b354e0b08"
      },
      "outputs": [
        {
          "name": "stdout",
          "output_type": "stream",
          "text": [
            "Antonny Muiko.\n"
          ]
        }
      ],
      "source": [
        "my_name = first_name + \" \" + second_name + \".\"\n",
        "print(my_name)"
      ]
    },
    {
      "cell_type": "code",
      "execution_count": null,
      "metadata": {
        "colab": {
          "base_uri": "https://localhost:8080/"
        },
        "id": "Cagezy_2Yo2b",
        "outputId": "1b35f3ef-f442-48b1-84f9-bbf9ca53e3f4"
      },
      "outputs": [
        {
          "name": "stdout",
          "output_type": "stream",
          "text": [
            "Antonny Muiko\n",
            "Antonny Muiko\n",
            "Antonny Muiko\n"
          ]
        }
      ],
      "source": [
        "# summary\n",
        "\n",
        "print(f\"{first_name} {second_name}\") # fstrings\n",
        "print(\"{} {}\".format(first_name, second_name)) # format\n",
        "print(first_name + \" \" + second_name) # concat\n"
      ]
    },
    {
      "cell_type": "markdown",
      "metadata": {
        "id": "5oQ-JmpROyYV"
      },
      "source": [
        "#### Adding Whitespace to Strings with Tabs or Newlines"
      ]
    },
    {
      "cell_type": "markdown",
      "metadata": {
        "id": "MdsgDQCzOyYV"
      },
      "source": [
        "* **Whitespace** refers to any nonprinting character, such as *spaces*, *tabs*, and *end-of-line symbols*.\n",
        "* Use whitespaces to organize your output so it's easier for users to read."
      ]
    },
    {
      "cell_type": "code",
      "execution_count": null,
      "metadata": {
        "colab": {
          "base_uri": "https://localhost:8080/"
        },
        "id": "SBRMCdVva6M4",
        "outputId": "12933bbb-a24a-4dff-e47c-8cf9d138131b"
      },
      "outputs": [
        {
          "name": "stdout",
          "output_type": "stream",
          "text": [
            "1.Antonny Muiko 2.Margaret Ochieng 3.Ida Ochieng 4.Everlyne Simiyu\n"
          ]
        }
      ],
      "source": [
        "# code goes here\n",
        "print(\"1.Antonny Muiko 2.Margaret Ochieng 3.Ida Ochieng 4.Everlyne Simiyu\")"
      ]
    },
    {
      "cell_type": "markdown",
      "metadata": {
        "id": "_YSLt9gbOyYW"
      },
      "source": [
        "1. tab - use character combination ```\\t```."
      ]
    },
    {
      "cell_type": "code",
      "execution_count": null,
      "metadata": {
        "colab": {
          "base_uri": "https://localhost:8080/"
        },
        "id": "dePz2sx2OyYW",
        "outputId": "06049f5f-fa5e-4b99-ff6c-febc9fa5edd2"
      },
      "outputs": [
        {
          "name": "stdout",
          "output_type": "stream",
          "text": [
            "1.\tAntonny Muiko 2.\tMargaret Ochieng 3.\tIda Ochieng 4.\tEverlyne Simiyu\n"
          ]
        }
      ],
      "source": [
        "print(\"1.\\tAntonny Muiko 2.\\tMargaret Ochieng 3.\\tIda Ochieng 4.\\tEverlyne Simiyu\")"
      ]
    },
    {
      "cell_type": "markdown",
      "metadata": {
        "id": "ZQd3g3nHOyYX"
      },
      "source": [
        "2. newline - use character combination ```\\n```."
      ]
    },
    {
      "cell_type": "code",
      "execution_count": null,
      "metadata": {
        "colab": {
          "base_uri": "https://localhost:8080/"
        },
        "id": "_qZl85LQOyYX",
        "outputId": "75671805-4158-46b7-8310-ad1cb03ab37b"
      },
      "outputs": [
        {
          "name": "stdout",
          "output_type": "stream",
          "text": [
            "1.\tAntonny Muiko\n",
            "2.\tMargaret Ochieng\n",
            "3.\tIda Ochieng\n",
            "4.\tEverlyne Simiyu\n"
          ]
        }
      ],
      "source": [
        "# code goes here\n",
        "print(\"1.\\tAntonny Muiko\\n2.\\tMargaret Ochieng\\n3.\\tIda Ochieng\\n4.\\tEverlyne Simiyu\")"
      ]
    },
    {
      "cell_type": "markdown",
      "metadata": {
        "id": "qDSWoG5qOyYX"
      },
      "source": [
        "#### Stripping WhiteSpace"
      ]
    },
    {
      "cell_type": "markdown",
      "metadata": {
        "id": "X4_SXnuGOyYX"
      },
      "source": [
        "Well, whitespaces are not always a bed of roses, sometimes they can be *thorny*!! Extra whitespaces can be confusing in your programs.\n",
        "\n",
        "'Moringa' and 'Moringa ' look pretty much the same, but to a program they are two different strings, as python interpreter will detect the extra space and considers it significant unless you tell it otherwise.\n",
        "\n",
        "* ```rstrip()``` - Ensure that no whitespaces exists at the right end of a string.\n",
        "* ```lstrip()``` - Ensure that no whitespaces exists at the left end of a string.\n",
        "* ```strip()``` - What do you think?"
      ]
    },
    {
      "cell_type": "code",
      "execution_count": null,
      "metadata": {
        "id": "bwuQ6YNMOyYX"
      },
      "outputs": [],
      "source": [
        "# code goes here\n",
        "first_word = 'Moringa '\n",
        "second_word = ' Moringa'\n",
        "third_word = '   Moringa '"
      ]
    },
    {
      "cell_type": "code",
      "execution_count": null,
      "metadata": {
        "colab": {
          "base_uri": "https://localhost:8080/"
        },
        "id": "P7avO7HmctO-",
        "outputId": "813aac3a-2c43-478a-e1c6-4ed3786454d6"
      },
      "outputs": [
        {
          "name": "stdout",
          "output_type": "stream",
          "text": [
            "Moringa \n",
            " Moringa\n",
            "   Moringa \n"
          ]
        }
      ],
      "source": [
        "print(first_word)\n",
        "print(second_word)\n",
        "print(third_word)"
      ]
    },
    {
      "cell_type": "markdown",
      "metadata": {
        "id": "4EynHKW2dARE"
      },
      "source": [
        "* Spot the difference in the above outputs."
      ]
    },
    {
      "cell_type": "code",
      "execution_count": null,
      "metadata": {
        "colab": {
          "base_uri": "https://localhost:8080/"
        },
        "id": "mI0adS9_dSRa",
        "outputId": "dc24f7d4-ee7b-4ee5-af41-d8e7deeff7d9"
      },
      "outputs": [
        {
          "name": "stdout",
          "output_type": "stream",
          "text": [
            "Moringa\n",
            "Moringa\n",
            "Moringa\n"
          ]
        }
      ],
      "source": [
        "print(first_word.rstrip()) # white space on the right\n",
        "print(second_word.lstrip()) # white space on the left\n",
        "print(third_word.strip()) # white space on both ends"
      ]
    },
    {
      "cell_type": "markdown",
      "metadata": {
        "id": "2NcN1CxeOyYY"
      },
      "source": [
        "#### Avoiding Syntax Errors with Strings"
      ]
    },
    {
      "cell_type": "markdown",
      "metadata": {
        "id": "rDSpGknzOyYY"
      },
      "source": [
        "* **Syntax error** occurs when python doesn't recognize a section of your program as valid python code."
      ]
    },
    {
      "cell_type": "code",
      "execution_count": null,
      "metadata": {
        "colab": {
          "base_uri": "https://localhost:8080/",
          "height": 135
        },
        "id": "A37FNcdgOyYY",
        "outputId": "9ba092d1-1f49-4812-c031-f62f72c99775"
      },
      "outputs": [
        {
          "ename": "SyntaxError",
          "evalue": "ignored",
          "output_type": "error",
          "traceback": [
            "\u001b[0;36m  File \u001b[0;32m\"<ipython-input-46-7be0b9761180>\"\u001b[0;36m, line \u001b[0;32m2\u001b[0m\n\u001b[0;31m    print('Antony's phone'\u001b[0m\n\u001b[0m                         ^\u001b[0m\n\u001b[0;31mSyntaxError\u001b[0m\u001b[0;31m:\u001b[0m unterminated string literal (detected at line 2)\n"
          ]
        }
      ],
      "source": [
        "# code goes here.\n",
        "print('Antony's phone')"
      ]
    },
    {
      "cell_type": "markdown",
      "metadata": {
        "id": "HKenIA5qOyYZ"
      },
      "source": [
        "### Knock yourself out!"
      ]
    },
    {
      "cell_type": "markdown",
      "metadata": {
        "id": "S4E0NhxsOyYZ"
      },
      "source": [
        "1. Use a variable to represent a person’s name, and print\n",
        "a message to that person. Your message should be simple, such as, “Hello Eric, would you like to learn some Python today?”\n",
        "2. Create another variable to represent a different person and print the same message to that person.\n",
        "3. Use a variable to represent a person’s name, and then print that person’s name in lowercase,uppercase, and title case.\n",
        "4. Find any quote and Print the\n",
        "quote and the name of its author. Your output should look something like the following, including the quotation marks:\n",
        "\n",
        "*Chambilecho wahenga, \"Chamlevi huliwa na mgema.\"*\n",
        "\n",
        "5. print out the following\n",
        "\n",
        "```\n",
        "the dataset has:\n",
        "    * 25 rows.\n",
        "    * 2 columns.\n",
        "```"
      ]
    },
    {
      "cell_type": "code",
      "execution_count": 2,
      "metadata": {
        "id": "oXj0KjYeOyYZ"
      },
      "outputs": [
        {
          "name": "stdout",
          "output_type": "stream",
          "text": [
            "Hello Eric, Would you like to learn some Python Today?\n"
          ]
        }
      ],
      "source": [
        "# code goes here\n",
        "name = \"Eric\"\n",
        "\n",
        "message = f\"Hello {name}, Would you like to learn some Python Today?\"\n",
        "\n",
        "print(message)"
      ]
    },
    {
      "cell_type": "code",
      "execution_count": 4,
      "metadata": {},
      "outputs": [
        {
          "name": "stdout",
          "output_type": "stream",
          "text": [
            "Hello Antonny, Would you like to learn some Python Today?\n"
          ]
        }
      ],
      "source": [
        "# question 2\n",
        "\n",
        "second_person = 'Antonny'\n",
        "\n",
        "message = f\"Hello {second_person}, Would you like to learn some Python Today?\"\n",
        "\n",
        "print(message)"
      ]
    },
    {
      "cell_type": "code",
      "execution_count": 5,
      "metadata": {},
      "outputs": [
        {
          "name": "stdout",
          "output_type": "stream",
          "text": [
            "ANTONNY\n",
            "Antonny\n",
            "antonny\n"
          ]
        }
      ],
      "source": [
        "# question 3\n",
        "print(second_person.upper())\n",
        "print(second_person.title())\n",
        "print(second_person.lower())"
      ]
    },
    {
      "cell_type": "code",
      "execution_count": 6,
      "metadata": {},
      "outputs": [
        {
          "name": "stdout",
          "output_type": "stream",
          "text": [
            "Antonny said, 'Programming is as easy as abcd, it takes time and patience.'\n"
          ]
        }
      ],
      "source": [
        "# question 4\n",
        "print(\"Antonny said, 'Programming is as easy as abcd, it takes time and patience.'\")"
      ]
    },
    {
      "cell_type": "code",
      "execution_count": 11,
      "metadata": {},
      "outputs": [
        {
          "name": "stdout",
          "output_type": "stream",
          "text": [
            "The dataset has the following:\n",
            "\t* 25 rows\n",
            "\t* 4 columns\n"
          ]
        }
      ],
      "source": [
        "# question 5\n",
        "print('The dataset has the following:\\n\\t* 25 rows\\n\\t* 4 columns')"
      ]
    },
    {
      "cell_type": "code",
      "execution_count": null,
      "metadata": {},
      "outputs": [],
      "source": []
    }
  ],
  "metadata": {
    "colab": {
      "provenance": []
    },
    "kernelspec": {
      "display_name": "Python 3",
      "language": "python",
      "name": "python3"
    },
    "language_info": {
      "codemirror_mode": {
        "name": "ipython",
        "version": 3
      },
      "file_extension": ".py",
      "mimetype": "text/x-python",
      "name": "python",
      "nbconvert_exporter": "python",
      "pygments_lexer": "ipython3",
      "version": "3.11.3"
    },
    "orig_nbformat": 4
  },
  "nbformat": 4,
  "nbformat_minor": 0
}
